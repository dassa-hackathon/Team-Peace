{
  "nbformat": 4,
  "nbformat_minor": 0,
  "metadata": {
    "colab": {
      "provenance": [],
      "collapsed_sections": []
    },
    "kernelspec": {
      "name": "python3",
      "display_name": "Python 3"
    },
    "language_info": {
      "name": "python"
    }
  },
  "cells": [
    {
      "cell_type": "code",
      "execution_count": null,
      "metadata": {
        "id": "kBy5qCJSpP8_",
        "colab": {
          "base_uri": "https://localhost:8080/",
          "height": 38
        },
        "outputId": "2bec10fa-97cb-4c2d-8a52-c276f457a52c"
      },
      "outputs": [
        {
          "data": {
            "text/html": [
              "\n",
              "     <input type=\"file\" id=\"files-ddb5e9a3-6d2e-4cdc-ad77-248d18b82e63\" name=\"files[]\" multiple disabled\n",
              "        style=\"border:none\" />\n",
              "     <output id=\"result-ddb5e9a3-6d2e-4cdc-ad77-248d18b82e63\">\n",
              "      Upload widget is only available when the cell has been executed in the\n",
              "      current browser session. Please rerun this cell to enable.\n",
              "      </output>\n",
              "      <script>// Copyright 2017 Google LLC\n",
              "//\n",
              "// Licensed under the Apache License, Version 2.0 (the \"License\");\n",
              "// you may not use this file except in compliance with the License.\n",
              "// You may obtain a copy of the License at\n",
              "//\n",
              "//      http://www.apache.org/licenses/LICENSE-2.0\n",
              "//\n",
              "// Unless required by applicable law or agreed to in writing, software\n",
              "// distributed under the License is distributed on an \"AS IS\" BASIS,\n",
              "// WITHOUT WARRANTIES OR CONDITIONS OF ANY KIND, either express or implied.\n",
              "// See the License for the specific language governing permissions and\n",
              "// limitations under the License.\n",
              "\n",
              "/**\n",
              " * @fileoverview Helpers for google.colab Python module.\n",
              " */\n",
              "(function(scope) {\n",
              "function span(text, styleAttributes = {}) {\n",
              "  const element = document.createElement('span');\n",
              "  element.textContent = text;\n",
              "  for (const key of Object.keys(styleAttributes)) {\n",
              "    element.style[key] = styleAttributes[key];\n",
              "  }\n",
              "  return element;\n",
              "}\n",
              "\n",
              "// Max number of bytes which will be uploaded at a time.\n",
              "const MAX_PAYLOAD_SIZE = 100 * 1024;\n",
              "\n",
              "function _uploadFiles(inputId, outputId) {\n",
              "  const steps = uploadFilesStep(inputId, outputId);\n",
              "  const outputElement = document.getElementById(outputId);\n",
              "  // Cache steps on the outputElement to make it available for the next call\n",
              "  // to uploadFilesContinue from Python.\n",
              "  outputElement.steps = steps;\n",
              "\n",
              "  return _uploadFilesContinue(outputId);\n",
              "}\n",
              "\n",
              "// This is roughly an async generator (not supported in the browser yet),\n",
              "// where there are multiple asynchronous steps and the Python side is going\n",
              "// to poll for completion of each step.\n",
              "// This uses a Promise to block the python side on completion of each step,\n",
              "// then passes the result of the previous step as the input to the next step.\n",
              "function _uploadFilesContinue(outputId) {\n",
              "  const outputElement = document.getElementById(outputId);\n",
              "  const steps = outputElement.steps;\n",
              "\n",
              "  const next = steps.next(outputElement.lastPromiseValue);\n",
              "  return Promise.resolve(next.value.promise).then((value) => {\n",
              "    // Cache the last promise value to make it available to the next\n",
              "    // step of the generator.\n",
              "    outputElement.lastPromiseValue = value;\n",
              "    return next.value.response;\n",
              "  });\n",
              "}\n",
              "\n",
              "/**\n",
              " * Generator function which is called between each async step of the upload\n",
              " * process.\n",
              " * @param {string} inputId Element ID of the input file picker element.\n",
              " * @param {string} outputId Element ID of the output display.\n",
              " * @return {!Iterable<!Object>} Iterable of next steps.\n",
              " */\n",
              "function* uploadFilesStep(inputId, outputId) {\n",
              "  const inputElement = document.getElementById(inputId);\n",
              "  inputElement.disabled = false;\n",
              "\n",
              "  const outputElement = document.getElementById(outputId);\n",
              "  outputElement.innerHTML = '';\n",
              "\n",
              "  const pickedPromise = new Promise((resolve) => {\n",
              "    inputElement.addEventListener('change', (e) => {\n",
              "      resolve(e.target.files);\n",
              "    });\n",
              "  });\n",
              "\n",
              "  const cancel = document.createElement('button');\n",
              "  inputElement.parentElement.appendChild(cancel);\n",
              "  cancel.textContent = 'Cancel upload';\n",
              "  const cancelPromise = new Promise((resolve) => {\n",
              "    cancel.onclick = () => {\n",
              "      resolve(null);\n",
              "    };\n",
              "  });\n",
              "\n",
              "  // Wait for the user to pick the files.\n",
              "  const files = yield {\n",
              "    promise: Promise.race([pickedPromise, cancelPromise]),\n",
              "    response: {\n",
              "      action: 'starting',\n",
              "    }\n",
              "  };\n",
              "\n",
              "  cancel.remove();\n",
              "\n",
              "  // Disable the input element since further picks are not allowed.\n",
              "  inputElement.disabled = true;\n",
              "\n",
              "  if (!files) {\n",
              "    return {\n",
              "      response: {\n",
              "        action: 'complete',\n",
              "      }\n",
              "    };\n",
              "  }\n",
              "\n",
              "  for (const file of files) {\n",
              "    const li = document.createElement('li');\n",
              "    li.append(span(file.name, {fontWeight: 'bold'}));\n",
              "    li.append(span(\n",
              "        `(${file.type || 'n/a'}) - ${file.size} bytes, ` +\n",
              "        `last modified: ${\n",
              "            file.lastModifiedDate ? file.lastModifiedDate.toLocaleDateString() :\n",
              "                                    'n/a'} - `));\n",
              "    const percent = span('0% done');\n",
              "    li.appendChild(percent);\n",
              "\n",
              "    outputElement.appendChild(li);\n",
              "\n",
              "    const fileDataPromise = new Promise((resolve) => {\n",
              "      const reader = new FileReader();\n",
              "      reader.onload = (e) => {\n",
              "        resolve(e.target.result);\n",
              "      };\n",
              "      reader.readAsArrayBuffer(file);\n",
              "    });\n",
              "    // Wait for the data to be ready.\n",
              "    let fileData = yield {\n",
              "      promise: fileDataPromise,\n",
              "      response: {\n",
              "        action: 'continue',\n",
              "      }\n",
              "    };\n",
              "\n",
              "    // Use a chunked sending to avoid message size limits. See b/62115660.\n",
              "    let position = 0;\n",
              "    do {\n",
              "      const length = Math.min(fileData.byteLength - position, MAX_PAYLOAD_SIZE);\n",
              "      const chunk = new Uint8Array(fileData, position, length);\n",
              "      position += length;\n",
              "\n",
              "      const base64 = btoa(String.fromCharCode.apply(null, chunk));\n",
              "      yield {\n",
              "        response: {\n",
              "          action: 'append',\n",
              "          file: file.name,\n",
              "          data: base64,\n",
              "        },\n",
              "      };\n",
              "\n",
              "      let percentDone = fileData.byteLength === 0 ?\n",
              "          100 :\n",
              "          Math.round((position / fileData.byteLength) * 100);\n",
              "      percent.textContent = `${percentDone}% done`;\n",
              "\n",
              "    } while (position < fileData.byteLength);\n",
              "  }\n",
              "\n",
              "  // All done.\n",
              "  yield {\n",
              "    response: {\n",
              "      action: 'complete',\n",
              "    }\n",
              "  };\n",
              "}\n",
              "\n",
              "scope.google = scope.google || {};\n",
              "scope.google.colab = scope.google.colab || {};\n",
              "scope.google.colab._files = {\n",
              "  _uploadFiles,\n",
              "  _uploadFilesContinue,\n",
              "};\n",
              "})(self);\n",
              "</script> "
            ],
            "text/plain": [
              "<IPython.core.display.HTML object>"
            ]
          },
          "metadata": {},
          "output_type": "display_data"
        }
      ],
      "source": [
        "# import the data and libraries\n",
        "import pandas as pd\n",
        "import numpy as np\n",
        "import seaborn as sns\n",
        "import matplotlib.pyplot as plt\n",
        "from google.colab import files\n",
        "uploaded = files.upload()\n",
        "import io"
      ]
    },
    {
      "cell_type": "code",
      "source": [
        "df = pd.read_csv(io.BytesIO(uploaded['loans_train_data.csv']))\n",
        "df.head()"
      ],
      "metadata": {
        "colab": {
          "base_uri": "https://localhost:8080/",
          "height": 299
        },
        "id": "J8RhVcnyu3He",
        "outputId": "b70f4263-b444-43cd-a568-529b31b9e10a"
      },
      "execution_count": 567,
      "outputs": [
        {
          "output_type": "execute_result",
          "data": {
            "text/plain": [
              "      emp_title  emp_length state homeownership  annual_income  \\\n",
              "0    instructor         2.0    NY          RENT        45000.0   \n",
              "1         owner        10.0    CA          RENT        68000.0   \n",
              "2  merchandiser        10.0    TN           OWN        15000.0   \n",
              "3  deputy clerk         2.0    OH      MORTGAGE        35000.0   \n",
              "4       teacher         2.0    UT          RENT        34000.0   \n",
              "\n",
              "   verified_income  debt_to_income  annual_income_joint  \\\n",
              "0  Source Verified            6.71                  NaN   \n",
              "1  Source Verified           18.99                  NaN   \n",
              "2  Source Verified           20.83                  NaN   \n",
              "3         Verified           35.56                  NaN   \n",
              "4     Not Verified           13.20                  NaN   \n",
              "\n",
              "  verification_income_joint  debt_to_income_joint  ...  tax_liens  \\\n",
              "0                       NaN                   NaN  ...          0   \n",
              "1                       NaN                   NaN  ...          0   \n",
              "2                       NaN                   NaN  ...          0   \n",
              "3                       NaN                   NaN  ...          0   \n",
              "4                       NaN                   NaN  ...          0   \n",
              "\n",
              "   public_record_bankrupt        loan_purpose  application_type  loan_amount  \\\n",
              "0                       0  debt_consolidation        individual        12000   \n",
              "1                       1      small_business        individual         7200   \n",
              "2                       0         credit_card        individual         5000   \n",
              "3                       0  debt_consolidation        individual        12800   \n",
              "4                       0         credit_card        individual         1200   \n",
              "\n",
              "   term  interest_rate  initial_listing_status  disbursement_method  id  \n",
              "0    60          19.03                   whole                 Cash   1  \n",
              "1    36          16.01                   whole                 Cash   2  \n",
              "2    36          11.99                   whole                 Cash   3  \n",
              "3    60          23.88                   whole            DirectPay   4  \n",
              "4    36          10.90                   whole                 Cash   5  \n",
              "\n",
              "[5 rows x 46 columns]"
            ],
            "text/html": [
              "\n",
              "  <div id=\"df-6c8afbe0-c82d-4df3-bbd5-3f66ab69eb39\">\n",
              "    <div class=\"colab-df-container\">\n",
              "      <div>\n",
              "<style scoped>\n",
              "    .dataframe tbody tr th:only-of-type {\n",
              "        vertical-align: middle;\n",
              "    }\n",
              "\n",
              "    .dataframe tbody tr th {\n",
              "        vertical-align: top;\n",
              "    }\n",
              "\n",
              "    .dataframe thead th {\n",
              "        text-align: right;\n",
              "    }\n",
              "</style>\n",
              "<table border=\"1\" class=\"dataframe\">\n",
              "  <thead>\n",
              "    <tr style=\"text-align: right;\">\n",
              "      <th></th>\n",
              "      <th>emp_title</th>\n",
              "      <th>emp_length</th>\n",
              "      <th>state</th>\n",
              "      <th>homeownership</th>\n",
              "      <th>annual_income</th>\n",
              "      <th>verified_income</th>\n",
              "      <th>debt_to_income</th>\n",
              "      <th>annual_income_joint</th>\n",
              "      <th>verification_income_joint</th>\n",
              "      <th>debt_to_income_joint</th>\n",
              "      <th>...</th>\n",
              "      <th>tax_liens</th>\n",
              "      <th>public_record_bankrupt</th>\n",
              "      <th>loan_purpose</th>\n",
              "      <th>application_type</th>\n",
              "      <th>loan_amount</th>\n",
              "      <th>term</th>\n",
              "      <th>interest_rate</th>\n",
              "      <th>initial_listing_status</th>\n",
              "      <th>disbursement_method</th>\n",
              "      <th>id</th>\n",
              "    </tr>\n",
              "  </thead>\n",
              "  <tbody>\n",
              "    <tr>\n",
              "      <th>0</th>\n",
              "      <td>instructor</td>\n",
              "      <td>2.0</td>\n",
              "      <td>NY</td>\n",
              "      <td>RENT</td>\n",
              "      <td>45000.0</td>\n",
              "      <td>Source Verified</td>\n",
              "      <td>6.71</td>\n",
              "      <td>NaN</td>\n",
              "      <td>NaN</td>\n",
              "      <td>NaN</td>\n",
              "      <td>...</td>\n",
              "      <td>0</td>\n",
              "      <td>0</td>\n",
              "      <td>debt_consolidation</td>\n",
              "      <td>individual</td>\n",
              "      <td>12000</td>\n",
              "      <td>60</td>\n",
              "      <td>19.03</td>\n",
              "      <td>whole</td>\n",
              "      <td>Cash</td>\n",
              "      <td>1</td>\n",
              "    </tr>\n",
              "    <tr>\n",
              "      <th>1</th>\n",
              "      <td>owner</td>\n",
              "      <td>10.0</td>\n",
              "      <td>CA</td>\n",
              "      <td>RENT</td>\n",
              "      <td>68000.0</td>\n",
              "      <td>Source Verified</td>\n",
              "      <td>18.99</td>\n",
              "      <td>NaN</td>\n",
              "      <td>NaN</td>\n",
              "      <td>NaN</td>\n",
              "      <td>...</td>\n",
              "      <td>0</td>\n",
              "      <td>1</td>\n",
              "      <td>small_business</td>\n",
              "      <td>individual</td>\n",
              "      <td>7200</td>\n",
              "      <td>36</td>\n",
              "      <td>16.01</td>\n",
              "      <td>whole</td>\n",
              "      <td>Cash</td>\n",
              "      <td>2</td>\n",
              "    </tr>\n",
              "    <tr>\n",
              "      <th>2</th>\n",
              "      <td>merchandiser</td>\n",
              "      <td>10.0</td>\n",
              "      <td>TN</td>\n",
              "      <td>OWN</td>\n",
              "      <td>15000.0</td>\n",
              "      <td>Source Verified</td>\n",
              "      <td>20.83</td>\n",
              "      <td>NaN</td>\n",
              "      <td>NaN</td>\n",
              "      <td>NaN</td>\n",
              "      <td>...</td>\n",
              "      <td>0</td>\n",
              "      <td>0</td>\n",
              "      <td>credit_card</td>\n",
              "      <td>individual</td>\n",
              "      <td>5000</td>\n",
              "      <td>36</td>\n",
              "      <td>11.99</td>\n",
              "      <td>whole</td>\n",
              "      <td>Cash</td>\n",
              "      <td>3</td>\n",
              "    </tr>\n",
              "    <tr>\n",
              "      <th>3</th>\n",
              "      <td>deputy clerk</td>\n",
              "      <td>2.0</td>\n",
              "      <td>OH</td>\n",
              "      <td>MORTGAGE</td>\n",
              "      <td>35000.0</td>\n",
              "      <td>Verified</td>\n",
              "      <td>35.56</td>\n",
              "      <td>NaN</td>\n",
              "      <td>NaN</td>\n",
              "      <td>NaN</td>\n",
              "      <td>...</td>\n",
              "      <td>0</td>\n",
              "      <td>0</td>\n",
              "      <td>debt_consolidation</td>\n",
              "      <td>individual</td>\n",
              "      <td>12800</td>\n",
              "      <td>60</td>\n",
              "      <td>23.88</td>\n",
              "      <td>whole</td>\n",
              "      <td>DirectPay</td>\n",
              "      <td>4</td>\n",
              "    </tr>\n",
              "    <tr>\n",
              "      <th>4</th>\n",
              "      <td>teacher</td>\n",
              "      <td>2.0</td>\n",
              "      <td>UT</td>\n",
              "      <td>RENT</td>\n",
              "      <td>34000.0</td>\n",
              "      <td>Not Verified</td>\n",
              "      <td>13.20</td>\n",
              "      <td>NaN</td>\n",
              "      <td>NaN</td>\n",
              "      <td>NaN</td>\n",
              "      <td>...</td>\n",
              "      <td>0</td>\n",
              "      <td>0</td>\n",
              "      <td>credit_card</td>\n",
              "      <td>individual</td>\n",
              "      <td>1200</td>\n",
              "      <td>36</td>\n",
              "      <td>10.90</td>\n",
              "      <td>whole</td>\n",
              "      <td>Cash</td>\n",
              "      <td>5</td>\n",
              "    </tr>\n",
              "  </tbody>\n",
              "</table>\n",
              "<p>5 rows × 46 columns</p>\n",
              "</div>\n",
              "      <button class=\"colab-df-convert\" onclick=\"convertToInteractive('df-6c8afbe0-c82d-4df3-bbd5-3f66ab69eb39')\"\n",
              "              title=\"Convert this dataframe to an interactive table.\"\n",
              "              style=\"display:none;\">\n",
              "        \n",
              "  <svg xmlns=\"http://www.w3.org/2000/svg\" height=\"24px\"viewBox=\"0 0 24 24\"\n",
              "       width=\"24px\">\n",
              "    <path d=\"M0 0h24v24H0V0z\" fill=\"none\"/>\n",
              "    <path d=\"M18.56 5.44l.94 2.06.94-2.06 2.06-.94-2.06-.94-.94-2.06-.94 2.06-2.06.94zm-11 1L8.5 8.5l.94-2.06 2.06-.94-2.06-.94L8.5 2.5l-.94 2.06-2.06.94zm10 10l.94 2.06.94-2.06 2.06-.94-2.06-.94-.94-2.06-.94 2.06-2.06.94z\"/><path d=\"M17.41 7.96l-1.37-1.37c-.4-.4-.92-.59-1.43-.59-.52 0-1.04.2-1.43.59L10.3 9.45l-7.72 7.72c-.78.78-.78 2.05 0 2.83L4 21.41c.39.39.9.59 1.41.59.51 0 1.02-.2 1.41-.59l7.78-7.78 2.81-2.81c.8-.78.8-2.07 0-2.86zM5.41 20L4 18.59l7.72-7.72 1.47 1.35L5.41 20z\"/>\n",
              "  </svg>\n",
              "      </button>\n",
              "      \n",
              "  <style>\n",
              "    .colab-df-container {\n",
              "      display:flex;\n",
              "      flex-wrap:wrap;\n",
              "      gap: 12px;\n",
              "    }\n",
              "\n",
              "    .colab-df-convert {\n",
              "      background-color: #E8F0FE;\n",
              "      border: none;\n",
              "      border-radius: 50%;\n",
              "      cursor: pointer;\n",
              "      display: none;\n",
              "      fill: #1967D2;\n",
              "      height: 32px;\n",
              "      padding: 0 0 0 0;\n",
              "      width: 32px;\n",
              "    }\n",
              "\n",
              "    .colab-df-convert:hover {\n",
              "      background-color: #E2EBFA;\n",
              "      box-shadow: 0px 1px 2px rgba(60, 64, 67, 0.3), 0px 1px 3px 1px rgba(60, 64, 67, 0.15);\n",
              "      fill: #174EA6;\n",
              "    }\n",
              "\n",
              "    [theme=dark] .colab-df-convert {\n",
              "      background-color: #3B4455;\n",
              "      fill: #D2E3FC;\n",
              "    }\n",
              "\n",
              "    [theme=dark] .colab-df-convert:hover {\n",
              "      background-color: #434B5C;\n",
              "      box-shadow: 0px 1px 3px 1px rgba(0, 0, 0, 0.15);\n",
              "      filter: drop-shadow(0px 1px 2px rgba(0, 0, 0, 0.3));\n",
              "      fill: #FFFFFF;\n",
              "    }\n",
              "  </style>\n",
              "\n",
              "      <script>\n",
              "        const buttonEl =\n",
              "          document.querySelector('#df-6c8afbe0-c82d-4df3-bbd5-3f66ab69eb39 button.colab-df-convert');\n",
              "        buttonEl.style.display =\n",
              "          google.colab.kernel.accessAllowed ? 'block' : 'none';\n",
              "\n",
              "        async function convertToInteractive(key) {\n",
              "          const element = document.querySelector('#df-6c8afbe0-c82d-4df3-bbd5-3f66ab69eb39');\n",
              "          const dataTable =\n",
              "            await google.colab.kernel.invokeFunction('convertToInteractive',\n",
              "                                                     [key], {});\n",
              "          if (!dataTable) return;\n",
              "\n",
              "          const docLinkHtml = 'Like what you see? Visit the ' +\n",
              "            '<a target=\"_blank\" href=https://colab.research.google.com/notebooks/data_table.ipynb>data table notebook</a>'\n",
              "            + ' to learn more about interactive tables.';\n",
              "          element.innerHTML = '';\n",
              "          dataTable['output_type'] = 'display_data';\n",
              "          await google.colab.output.renderOutput(dataTable, element);\n",
              "          const docLink = document.createElement('div');\n",
              "          docLink.innerHTML = docLinkHtml;\n",
              "          element.appendChild(docLink);\n",
              "        }\n",
              "      </script>\n",
              "    </div>\n",
              "  </div>\n",
              "  "
            ]
          },
          "metadata": {},
          "execution_count": 567
        }
      ]
    },
    {
      "cell_type": "markdown",
      "source": [
        "## Data Exploration"
      ],
      "metadata": {
        "id": "xg3mRG8YiWcl"
      }
    },
    {
      "cell_type": "code",
      "source": [
        "# data shape\n",
        "df.shape"
      ],
      "metadata": {
        "colab": {
          "base_uri": "https://localhost:8080/"
        },
        "id": "rBKDh7ovu2KX",
        "outputId": "a4438a2e-1ccc-46bf-d0b5-e68d3afbcc50"
      },
      "execution_count": 568,
      "outputs": [
        {
          "output_type": "execute_result",
          "data": {
            "text/plain": [
              "(7000, 46)"
            ]
          },
          "metadata": {},
          "execution_count": 568
        }
      ]
    },
    {
      "cell_type": "code",
      "source": [
        "# datatypes for columns\n",
        "df.info()"
      ],
      "metadata": {
        "colab": {
          "base_uri": "https://localhost:8080/"
        },
        "id": "sRtZRuIcw2yy",
        "outputId": "68f58c3f-544d-44b7-b60a-6db855574e52"
      },
      "execution_count": 569,
      "outputs": [
        {
          "output_type": "stream",
          "name": "stdout",
          "text": [
            "<class 'pandas.core.frame.DataFrame'>\n",
            "RangeIndex: 7000 entries, 0 to 6999\n",
            "Data columns (total 46 columns):\n",
            " #   Column                            Non-Null Count  Dtype  \n",
            "---  ------                            --------------  -----  \n",
            " 0   emp_title                         6431 non-null   object \n",
            " 1   emp_length                        6443 non-null   float64\n",
            " 2   state                             7000 non-null   object \n",
            " 3   homeownership                     7000 non-null   object \n",
            " 4   annual_income                     7000 non-null   float64\n",
            " 5   verified_income                   7000 non-null   object \n",
            " 6   debt_to_income                    6986 non-null   float64\n",
            " 7   annual_income_joint               1059 non-null   float64\n",
            " 8   verification_income_joint         1034 non-null   object \n",
            " 9   debt_to_income_joint              1059 non-null   float64\n",
            " 10  delinq_2y                         7000 non-null   int64  \n",
            " 11  months_since_last_delinq          3060 non-null   float64\n",
            " 12  earliest_credit_line              7000 non-null   int64  \n",
            " 13  inquiries_last_12m                7000 non-null   int64  \n",
            " 14  total_credit_lines                7000 non-null   int64  \n",
            " 15  open_credit_lines                 7000 non-null   int64  \n",
            " 16  total_credit_limit                7000 non-null   int64  \n",
            " 17  total_credit_utilized             7000 non-null   int64  \n",
            " 18  num_collections_last_12m          7000 non-null   int64  \n",
            " 19  num_historical_failed_to_pay      7000 non-null   int64  \n",
            " 20  months_since_90d_late             1611 non-null   float64\n",
            " 21  current_accounts_delinq           7000 non-null   int64  \n",
            " 22  total_collection_amount_ever      7000 non-null   int64  \n",
            " 23  current_installment_accounts      7000 non-null   int64  \n",
            " 24  accounts_opened_24m               7000 non-null   int64  \n",
            " 25  months_since_last_credit_inquiry  6124 non-null   float64\n",
            " 26  num_satisfactory_accounts         7000 non-null   int64  \n",
            " 27  num_accounts_120d_past_due        6783 non-null   float64\n",
            " 28  num_accounts_30d_past_due         7000 non-null   int64  \n",
            " 29  num_active_debit_accounts         7000 non-null   int64  \n",
            " 30  total_debit_limit                 7000 non-null   int64  \n",
            " 31  num_total_cc_accounts             7000 non-null   int64  \n",
            " 32  num_open_cc_accounts              7000 non-null   int64  \n",
            " 33  num_cc_carrying_balance           7000 non-null   int64  \n",
            " 34  num_mort_accounts                 7000 non-null   int64  \n",
            " 35  account_never_delinq_percent      7000 non-null   float64\n",
            " 36  tax_liens                         7000 non-null   int64  \n",
            " 37  public_record_bankrupt            7000 non-null   int64  \n",
            " 38  loan_purpose                      7000 non-null   object \n",
            " 39  application_type                  7000 non-null   object \n",
            " 40  loan_amount                       7000 non-null   int64  \n",
            " 41  term                              7000 non-null   int64  \n",
            " 42  interest_rate                     7000 non-null   float64\n",
            " 43  initial_listing_status            7000 non-null   object \n",
            " 44  disbursement_method               7000 non-null   object \n",
            " 45  id                                7000 non-null   int64  \n",
            "dtypes: float64(11), int64(26), object(9)\n",
            "memory usage: 2.5+ MB\n"
          ]
        }
      ]
    },
    {
      "cell_type": "code",
      "source": [
        "df.describe()"
      ],
      "metadata": {
        "colab": {
          "base_uri": "https://localhost:8080/",
          "height": 394
        },
        "id": "6Vt6IMXgxBsu",
        "outputId": "010dc047-d2c1-4e3c-d60f-a858af0df477"
      },
      "execution_count": 570,
      "outputs": [
        {
          "output_type": "execute_result",
          "data": {
            "text/plain": [
              "        emp_length  annual_income  debt_to_income  annual_income_joint  \\\n",
              "count  6443.000000   7.000000e+03     6986.000000          1059.000000   \n",
              "mean      5.939159   7.949433e+04       19.261134        129198.038886   \n",
              "std       3.718397   6.634772e+04       14.486939         68403.158182   \n",
              "min       0.000000   0.000000e+00        0.000000         19200.000000   \n",
              "25%       2.000000   4.500000e+04       11.050000         87000.000000   \n",
              "50%       6.000000   6.500000e+04       17.540000        115000.000000   \n",
              "75%      10.000000   9.500000e+04       25.007500        155000.000000   \n",
              "max      10.000000   2.300000e+06      469.090000        690000.000000   \n",
              "\n",
              "       debt_to_income_joint    delinq_2y  months_since_last_delinq  \\\n",
              "count           1059.000000  7000.000000               3060.000000   \n",
              "mean              19.868687     0.218000                 36.982026   \n",
              "std                8.112970     0.683875                 21.707648   \n",
              "min                0.320000     0.000000                  1.000000   \n",
              "25%               13.945000     0.000000                 19.000000   \n",
              "50%               19.560000     0.000000                 34.000000   \n",
              "75%               25.360000     0.000000                 53.000000   \n",
              "max               39.980000    13.000000                109.000000   \n",
              "\n",
              "       earliest_credit_line  inquiries_last_12m  total_credit_lines  ...  \\\n",
              "count           7000.000000         7000.000000         7000.000000  ...   \n",
              "mean            2001.245714            1.961286           22.628286  ...   \n",
              "std                7.805605            2.404231           11.907816  ...   \n",
              "min             1963.000000            0.000000            2.000000  ...   \n",
              "25%             1997.000000            0.000000           14.000000  ...   \n",
              "50%             2003.000000            1.000000           21.000000  ...   \n",
              "75%             2006.000000            3.000000           29.000000  ...   \n",
              "max             2015.000000           26.000000           87.000000  ...   \n",
              "\n",
              "       num_open_cc_accounts  num_cc_carrying_balance  num_mort_accounts  \\\n",
              "count           7000.000000              7000.000000        7000.000000   \n",
              "mean               8.073857                 5.203857           1.378000   \n",
              "std                4.855489                 3.259727           1.700786   \n",
              "min                0.000000                 0.000000           0.000000   \n",
              "25%                5.000000                 3.000000           0.000000   \n",
              "50%                7.000000                 5.000000           1.000000   \n",
              "75%               10.000000                 7.000000           2.000000   \n",
              "max               38.000000                29.000000          14.000000   \n",
              "\n",
              "       account_never_delinq_percent    tax_liens  public_record_bankrupt  \\\n",
              "count                   7000.000000  7000.000000             7000.000000   \n",
              "mean                      94.515414     0.044857                0.126000   \n",
              "std                        9.290584     0.681635                0.338691   \n",
              "min                       14.300000     0.000000                0.000000   \n",
              "25%                       92.300000     0.000000                0.000000   \n",
              "50%                      100.000000     0.000000                0.000000   \n",
              "75%                      100.000000     0.000000                0.000000   \n",
              "max                      100.000000    52.000000                3.000000   \n",
              "\n",
              "        loan_amount         term  interest_rate           id  \n",
              "count   7000.000000  7000.000000     7000.00000  7000.000000  \n",
              "mean   16354.142857    43.241143       12.47482  3500.500000  \n",
              "std    10317.557647    11.016833        5.01296  2020.870275  \n",
              "min     1000.000000    36.000000        5.31000     1.000000  \n",
              "25%     8293.750000    36.000000        9.43000  1750.750000  \n",
              "50%    14400.000000    36.000000       11.98000  3500.500000  \n",
              "75%    24000.000000    60.000000       15.05000  5250.250000  \n",
              "max    40000.000000    60.000000       30.94000  7000.000000  \n",
              "\n",
              "[8 rows x 37 columns]"
            ],
            "text/html": [
              "\n",
              "  <div id=\"df-583d461d-6353-4131-bfd7-fc0a437b1ac3\">\n",
              "    <div class=\"colab-df-container\">\n",
              "      <div>\n",
              "<style scoped>\n",
              "    .dataframe tbody tr th:only-of-type {\n",
              "        vertical-align: middle;\n",
              "    }\n",
              "\n",
              "    .dataframe tbody tr th {\n",
              "        vertical-align: top;\n",
              "    }\n",
              "\n",
              "    .dataframe thead th {\n",
              "        text-align: right;\n",
              "    }\n",
              "</style>\n",
              "<table border=\"1\" class=\"dataframe\">\n",
              "  <thead>\n",
              "    <tr style=\"text-align: right;\">\n",
              "      <th></th>\n",
              "      <th>emp_length</th>\n",
              "      <th>annual_income</th>\n",
              "      <th>debt_to_income</th>\n",
              "      <th>annual_income_joint</th>\n",
              "      <th>debt_to_income_joint</th>\n",
              "      <th>delinq_2y</th>\n",
              "      <th>months_since_last_delinq</th>\n",
              "      <th>earliest_credit_line</th>\n",
              "      <th>inquiries_last_12m</th>\n",
              "      <th>total_credit_lines</th>\n",
              "      <th>...</th>\n",
              "      <th>num_open_cc_accounts</th>\n",
              "      <th>num_cc_carrying_balance</th>\n",
              "      <th>num_mort_accounts</th>\n",
              "      <th>account_never_delinq_percent</th>\n",
              "      <th>tax_liens</th>\n",
              "      <th>public_record_bankrupt</th>\n",
              "      <th>loan_amount</th>\n",
              "      <th>term</th>\n",
              "      <th>interest_rate</th>\n",
              "      <th>id</th>\n",
              "    </tr>\n",
              "  </thead>\n",
              "  <tbody>\n",
              "    <tr>\n",
              "      <th>count</th>\n",
              "      <td>6443.000000</td>\n",
              "      <td>7.000000e+03</td>\n",
              "      <td>6986.000000</td>\n",
              "      <td>1059.000000</td>\n",
              "      <td>1059.000000</td>\n",
              "      <td>7000.000000</td>\n",
              "      <td>3060.000000</td>\n",
              "      <td>7000.000000</td>\n",
              "      <td>7000.000000</td>\n",
              "      <td>7000.000000</td>\n",
              "      <td>...</td>\n",
              "      <td>7000.000000</td>\n",
              "      <td>7000.000000</td>\n",
              "      <td>7000.000000</td>\n",
              "      <td>7000.000000</td>\n",
              "      <td>7000.000000</td>\n",
              "      <td>7000.000000</td>\n",
              "      <td>7000.000000</td>\n",
              "      <td>7000.000000</td>\n",
              "      <td>7000.00000</td>\n",
              "      <td>7000.000000</td>\n",
              "    </tr>\n",
              "    <tr>\n",
              "      <th>mean</th>\n",
              "      <td>5.939159</td>\n",
              "      <td>7.949433e+04</td>\n",
              "      <td>19.261134</td>\n",
              "      <td>129198.038886</td>\n",
              "      <td>19.868687</td>\n",
              "      <td>0.218000</td>\n",
              "      <td>36.982026</td>\n",
              "      <td>2001.245714</td>\n",
              "      <td>1.961286</td>\n",
              "      <td>22.628286</td>\n",
              "      <td>...</td>\n",
              "      <td>8.073857</td>\n",
              "      <td>5.203857</td>\n",
              "      <td>1.378000</td>\n",
              "      <td>94.515414</td>\n",
              "      <td>0.044857</td>\n",
              "      <td>0.126000</td>\n",
              "      <td>16354.142857</td>\n",
              "      <td>43.241143</td>\n",
              "      <td>12.47482</td>\n",
              "      <td>3500.500000</td>\n",
              "    </tr>\n",
              "    <tr>\n",
              "      <th>std</th>\n",
              "      <td>3.718397</td>\n",
              "      <td>6.634772e+04</td>\n",
              "      <td>14.486939</td>\n",
              "      <td>68403.158182</td>\n",
              "      <td>8.112970</td>\n",
              "      <td>0.683875</td>\n",
              "      <td>21.707648</td>\n",
              "      <td>7.805605</td>\n",
              "      <td>2.404231</td>\n",
              "      <td>11.907816</td>\n",
              "      <td>...</td>\n",
              "      <td>4.855489</td>\n",
              "      <td>3.259727</td>\n",
              "      <td>1.700786</td>\n",
              "      <td>9.290584</td>\n",
              "      <td>0.681635</td>\n",
              "      <td>0.338691</td>\n",
              "      <td>10317.557647</td>\n",
              "      <td>11.016833</td>\n",
              "      <td>5.01296</td>\n",
              "      <td>2020.870275</td>\n",
              "    </tr>\n",
              "    <tr>\n",
              "      <th>min</th>\n",
              "      <td>0.000000</td>\n",
              "      <td>0.000000e+00</td>\n",
              "      <td>0.000000</td>\n",
              "      <td>19200.000000</td>\n",
              "      <td>0.320000</td>\n",
              "      <td>0.000000</td>\n",
              "      <td>1.000000</td>\n",
              "      <td>1963.000000</td>\n",
              "      <td>0.000000</td>\n",
              "      <td>2.000000</td>\n",
              "      <td>...</td>\n",
              "      <td>0.000000</td>\n",
              "      <td>0.000000</td>\n",
              "      <td>0.000000</td>\n",
              "      <td>14.300000</td>\n",
              "      <td>0.000000</td>\n",
              "      <td>0.000000</td>\n",
              "      <td>1000.000000</td>\n",
              "      <td>36.000000</td>\n",
              "      <td>5.31000</td>\n",
              "      <td>1.000000</td>\n",
              "    </tr>\n",
              "    <tr>\n",
              "      <th>25%</th>\n",
              "      <td>2.000000</td>\n",
              "      <td>4.500000e+04</td>\n",
              "      <td>11.050000</td>\n",
              "      <td>87000.000000</td>\n",
              "      <td>13.945000</td>\n",
              "      <td>0.000000</td>\n",
              "      <td>19.000000</td>\n",
              "      <td>1997.000000</td>\n",
              "      <td>0.000000</td>\n",
              "      <td>14.000000</td>\n",
              "      <td>...</td>\n",
              "      <td>5.000000</td>\n",
              "      <td>3.000000</td>\n",
              "      <td>0.000000</td>\n",
              "      <td>92.300000</td>\n",
              "      <td>0.000000</td>\n",
              "      <td>0.000000</td>\n",
              "      <td>8293.750000</td>\n",
              "      <td>36.000000</td>\n",
              "      <td>9.43000</td>\n",
              "      <td>1750.750000</td>\n",
              "    </tr>\n",
              "    <tr>\n",
              "      <th>50%</th>\n",
              "      <td>6.000000</td>\n",
              "      <td>6.500000e+04</td>\n",
              "      <td>17.540000</td>\n",
              "      <td>115000.000000</td>\n",
              "      <td>19.560000</td>\n",
              "      <td>0.000000</td>\n",
              "      <td>34.000000</td>\n",
              "      <td>2003.000000</td>\n",
              "      <td>1.000000</td>\n",
              "      <td>21.000000</td>\n",
              "      <td>...</td>\n",
              "      <td>7.000000</td>\n",
              "      <td>5.000000</td>\n",
              "      <td>1.000000</td>\n",
              "      <td>100.000000</td>\n",
              "      <td>0.000000</td>\n",
              "      <td>0.000000</td>\n",
              "      <td>14400.000000</td>\n",
              "      <td>36.000000</td>\n",
              "      <td>11.98000</td>\n",
              "      <td>3500.500000</td>\n",
              "    </tr>\n",
              "    <tr>\n",
              "      <th>75%</th>\n",
              "      <td>10.000000</td>\n",
              "      <td>9.500000e+04</td>\n",
              "      <td>25.007500</td>\n",
              "      <td>155000.000000</td>\n",
              "      <td>25.360000</td>\n",
              "      <td>0.000000</td>\n",
              "      <td>53.000000</td>\n",
              "      <td>2006.000000</td>\n",
              "      <td>3.000000</td>\n",
              "      <td>29.000000</td>\n",
              "      <td>...</td>\n",
              "      <td>10.000000</td>\n",
              "      <td>7.000000</td>\n",
              "      <td>2.000000</td>\n",
              "      <td>100.000000</td>\n",
              "      <td>0.000000</td>\n",
              "      <td>0.000000</td>\n",
              "      <td>24000.000000</td>\n",
              "      <td>60.000000</td>\n",
              "      <td>15.05000</td>\n",
              "      <td>5250.250000</td>\n",
              "    </tr>\n",
              "    <tr>\n",
              "      <th>max</th>\n",
              "      <td>10.000000</td>\n",
              "      <td>2.300000e+06</td>\n",
              "      <td>469.090000</td>\n",
              "      <td>690000.000000</td>\n",
              "      <td>39.980000</td>\n",
              "      <td>13.000000</td>\n",
              "      <td>109.000000</td>\n",
              "      <td>2015.000000</td>\n",
              "      <td>26.000000</td>\n",
              "      <td>87.000000</td>\n",
              "      <td>...</td>\n",
              "      <td>38.000000</td>\n",
              "      <td>29.000000</td>\n",
              "      <td>14.000000</td>\n",
              "      <td>100.000000</td>\n",
              "      <td>52.000000</td>\n",
              "      <td>3.000000</td>\n",
              "      <td>40000.000000</td>\n",
              "      <td>60.000000</td>\n",
              "      <td>30.94000</td>\n",
              "      <td>7000.000000</td>\n",
              "    </tr>\n",
              "  </tbody>\n",
              "</table>\n",
              "<p>8 rows × 37 columns</p>\n",
              "</div>\n",
              "      <button class=\"colab-df-convert\" onclick=\"convertToInteractive('df-583d461d-6353-4131-bfd7-fc0a437b1ac3')\"\n",
              "              title=\"Convert this dataframe to an interactive table.\"\n",
              "              style=\"display:none;\">\n",
              "        \n",
              "  <svg xmlns=\"http://www.w3.org/2000/svg\" height=\"24px\"viewBox=\"0 0 24 24\"\n",
              "       width=\"24px\">\n",
              "    <path d=\"M0 0h24v24H0V0z\" fill=\"none\"/>\n",
              "    <path d=\"M18.56 5.44l.94 2.06.94-2.06 2.06-.94-2.06-.94-.94-2.06-.94 2.06-2.06.94zm-11 1L8.5 8.5l.94-2.06 2.06-.94-2.06-.94L8.5 2.5l-.94 2.06-2.06.94zm10 10l.94 2.06.94-2.06 2.06-.94-2.06-.94-.94-2.06-.94 2.06-2.06.94z\"/><path d=\"M17.41 7.96l-1.37-1.37c-.4-.4-.92-.59-1.43-.59-.52 0-1.04.2-1.43.59L10.3 9.45l-7.72 7.72c-.78.78-.78 2.05 0 2.83L4 21.41c.39.39.9.59 1.41.59.51 0 1.02-.2 1.41-.59l7.78-7.78 2.81-2.81c.8-.78.8-2.07 0-2.86zM5.41 20L4 18.59l7.72-7.72 1.47 1.35L5.41 20z\"/>\n",
              "  </svg>\n",
              "      </button>\n",
              "      \n",
              "  <style>\n",
              "    .colab-df-container {\n",
              "      display:flex;\n",
              "      flex-wrap:wrap;\n",
              "      gap: 12px;\n",
              "    }\n",
              "\n",
              "    .colab-df-convert {\n",
              "      background-color: #E8F0FE;\n",
              "      border: none;\n",
              "      border-radius: 50%;\n",
              "      cursor: pointer;\n",
              "      display: none;\n",
              "      fill: #1967D2;\n",
              "      height: 32px;\n",
              "      padding: 0 0 0 0;\n",
              "      width: 32px;\n",
              "    }\n",
              "\n",
              "    .colab-df-convert:hover {\n",
              "      background-color: #E2EBFA;\n",
              "      box-shadow: 0px 1px 2px rgba(60, 64, 67, 0.3), 0px 1px 3px 1px rgba(60, 64, 67, 0.15);\n",
              "      fill: #174EA6;\n",
              "    }\n",
              "\n",
              "    [theme=dark] .colab-df-convert {\n",
              "      background-color: #3B4455;\n",
              "      fill: #D2E3FC;\n",
              "    }\n",
              "\n",
              "    [theme=dark] .colab-df-convert:hover {\n",
              "      background-color: #434B5C;\n",
              "      box-shadow: 0px 1px 3px 1px rgba(0, 0, 0, 0.15);\n",
              "      filter: drop-shadow(0px 1px 2px rgba(0, 0, 0, 0.3));\n",
              "      fill: #FFFFFF;\n",
              "    }\n",
              "  </style>\n",
              "\n",
              "      <script>\n",
              "        const buttonEl =\n",
              "          document.querySelector('#df-583d461d-6353-4131-bfd7-fc0a437b1ac3 button.colab-df-convert');\n",
              "        buttonEl.style.display =\n",
              "          google.colab.kernel.accessAllowed ? 'block' : 'none';\n",
              "\n",
              "        async function convertToInteractive(key) {\n",
              "          const element = document.querySelector('#df-583d461d-6353-4131-bfd7-fc0a437b1ac3');\n",
              "          const dataTable =\n",
              "            await google.colab.kernel.invokeFunction('convertToInteractive',\n",
              "                                                     [key], {});\n",
              "          if (!dataTable) return;\n",
              "\n",
              "          const docLinkHtml = 'Like what you see? Visit the ' +\n",
              "            '<a target=\"_blank\" href=https://colab.research.google.com/notebooks/data_table.ipynb>data table notebook</a>'\n",
              "            + ' to learn more about interactive tables.';\n",
              "          element.innerHTML = '';\n",
              "          dataTable['output_type'] = 'display_data';\n",
              "          await google.colab.output.renderOutput(dataTable, element);\n",
              "          const docLink = document.createElement('div');\n",
              "          docLink.innerHTML = docLinkHtml;\n",
              "          element.appendChild(docLink);\n",
              "        }\n",
              "      </script>\n",
              "    </div>\n",
              "  </div>\n",
              "  "
            ]
          },
          "metadata": {},
          "execution_count": 570
        }
      ]
    },
    {
      "cell_type": "code",
      "source": [
        "# null values\n",
        "df.isnull().sum()"
      ],
      "metadata": {
        "colab": {
          "base_uri": "https://localhost:8080/"
        },
        "id": "vvMhO4-FxJpX",
        "outputId": "287d8e0b-977d-46f5-a0a4-04ed113eded7"
      },
      "execution_count": 571,
      "outputs": [
        {
          "output_type": "execute_result",
          "data": {
            "text/plain": [
              "emp_title                            569\n",
              "emp_length                           557\n",
              "state                                  0\n",
              "homeownership                          0\n",
              "annual_income                          0\n",
              "verified_income                        0\n",
              "debt_to_income                        14\n",
              "annual_income_joint                 5941\n",
              "verification_income_joint           5966\n",
              "debt_to_income_joint                5941\n",
              "delinq_2y                              0\n",
              "months_since_last_delinq            3940\n",
              "earliest_credit_line                   0\n",
              "inquiries_last_12m                     0\n",
              "total_credit_lines                     0\n",
              "open_credit_lines                      0\n",
              "total_credit_limit                     0\n",
              "total_credit_utilized                  0\n",
              "num_collections_last_12m               0\n",
              "num_historical_failed_to_pay           0\n",
              "months_since_90d_late               5389\n",
              "current_accounts_delinq                0\n",
              "total_collection_amount_ever           0\n",
              "current_installment_accounts           0\n",
              "accounts_opened_24m                    0\n",
              "months_since_last_credit_inquiry     876\n",
              "num_satisfactory_accounts              0\n",
              "num_accounts_120d_past_due           217\n",
              "num_accounts_30d_past_due              0\n",
              "num_active_debit_accounts              0\n",
              "total_debit_limit                      0\n",
              "num_total_cc_accounts                  0\n",
              "num_open_cc_accounts                   0\n",
              "num_cc_carrying_balance                0\n",
              "num_mort_accounts                      0\n",
              "account_never_delinq_percent           0\n",
              "tax_liens                              0\n",
              "public_record_bankrupt                 0\n",
              "loan_purpose                           0\n",
              "application_type                       0\n",
              "loan_amount                            0\n",
              "term                                   0\n",
              "interest_rate                          0\n",
              "initial_listing_status                 0\n",
              "disbursement_method                    0\n",
              "id                                     0\n",
              "dtype: int64"
            ]
          },
          "metadata": {},
          "execution_count": 571
        }
      ]
    },
    {
      "cell_type": "markdown",
      "source": [
        "## Data Cleaning and Preprocessing"
      ],
      "metadata": {
        "id": "UUxfYA2ciNJq"
      }
    },
    {
      "cell_type": "code",
      "source": [
        "df['months_since_last_credit_inquiry']=df['months_since_last_credit_inquiry'].fillna(df['months_since_last_credit_inquiry'].mean())"
      ],
      "metadata": {
        "id": "rMR40IQnXsK_"
      },
      "execution_count": 572,
      "outputs": []
    },
    {
      "cell_type": "code",
      "source": [
        "df = df.drop(['num_accounts_120d_past_due','num_accounts_120d_past_due','annual_income_joint','verification_income_joint','debt_to_income_joint','months_since_90d_late','emp_title','state','disbursement_method'],axis=1)"
      ],
      "metadata": {
        "id": "B0A0FjHezro3"
      },
      "execution_count": 573,
      "outputs": []
    },
    {
      "cell_type": "code",
      "source": [
        "#df.loc[df['emp_title'].isnull(),'emp_title'] = 'Unknown'"
      ],
      "metadata": {
        "id": "BEF1j_qO5D7b"
      },
      "execution_count": 574,
      "outputs": []
    },
    {
      "cell_type": "code",
      "source": [
        "df = df.dropna(subset=['emp_length'])"
      ],
      "metadata": {
        "id": "q0Y424iY6nHp"
      },
      "execution_count": 575,
      "outputs": []
    },
    {
      "cell_type": "code",
      "source": [
        "df['months_since_last_delinq'] = df['months_since_last_delinq'].fillna(df['months_since_last_delinq'].max())"
      ],
      "metadata": {
        "id": "hsZqfIBNbtLE"
      },
      "execution_count": 576,
      "outputs": []
    },
    {
      "cell_type": "code",
      "source": [
        "df.loc[df['total_credit_limit']>1000000,'total_credit_limit']=1000000\n",
        "df.loc[df['annual_income']>500000,'annual_income'] = 500000\n",
        "df.loc[df['total_debit_limit']>150000,'total_debit_limit']=150000\n",
        "df.loc[df['debt_to_income']>80,'debt_to_income']=80\n",
        "df.loc[df['inquiries_last_12m']>10,'debt_to_income']=10\n",
        "df.loc[df['account_never_delinq_percent']<50,'account_never_delinq_percent']=50\n",
        "df.loc[df['accounts_opened_24m']>18,'accounts_opened_24m']=18\n",
        "df.loc[df['earliest_credit_line']<1975,'earliest_credit_line']=1975\n",
        "df.loc[df['delinq_2y']>5,'delinq_2y']=5"
      ],
      "metadata": {
        "id": "UFy4RD_2f5Zu"
      },
      "execution_count": 577,
      "outputs": []
    },
    {
      "cell_type": "code",
      "source": [
        "df.loc[df['num_cc_carrying_balance']>18,'num_cc_carrying_balance']=18"
      ],
      "metadata": {
        "id": "CWpT86eJobLC"
      },
      "execution_count": 578,
      "outputs": []
    },
    {
      "cell_type": "markdown",
      "source": [
        "## Visualization"
      ],
      "metadata": {
        "id": "5RJTii6MgKj0"
      }
    },
    {
      "cell_type": "code",
      "source": [
        "# visualize the data\n",
        "plt.figure(figsize=(16,10))\n",
        "sns.heatmap(df.corr())"
      ],
      "metadata": {
        "id": "ZgP02SRiptJC",
        "colab": {
          "base_uri": "https://localhost:8080/",
          "height": 768
        },
        "outputId": "1beb04a1-0db7-415c-80f0-f7cda79ce664"
      },
      "execution_count": 579,
      "outputs": [
        {
          "output_type": "execute_result",
          "data": {
            "text/plain": [
              "<matplotlib.axes._subplots.AxesSubplot at 0x7f03b6ad8ed0>"
            ]
          },
          "metadata": {},
          "execution_count": 579
        },
        {
          "output_type": "display_data",
          "data": {
            "text/plain": [
              "<Figure size 1152x720 with 2 Axes>"
            ],
            "image/png": "[encoded data removed]"
          },
          "metadata": {
            "needs_background": "light"
          }
        }
      ]
    },
    {
      "cell_type": "code",
      "source": [
        "plt.figure(figsize=(10,5))\n",
        "sns.countplot(x ='loan_purpose',data = df)\n",
        "plt.xticks(rotation=75)\n",
        "plt.xlabel('Purpose of Loan')\n",
        "plt.ylabel('Count')\n",
        "plt.title('Distribution of Loans across different purposes')"
      ],
      "metadata": {
        "colab": {
          "base_uri": "https://localhost:8080/",
          "height": 456
        },
        "id": "bZDZr_bcgJKS",
        "outputId": "c5480524-48c1-4280-ffcb-192b853f10f1"
      },
      "execution_count": 580,
      "outputs": [
        {
          "output_type": "execute_result",
          "data": {
            "text/plain": [
              "Text(0.5, 1.0, 'Distribution of Loans across different purposes')"
            ]
          },
          "metadata": {},
          "execution_count": 580
        },
        {
          "output_type": "display_data",
          "data": {
            "text/plain": [
              "<Figure size 720x360 with 1 Axes>"
            ],
            "image/png": "[encoded data removed]"
          },
          "metadata": {
            "needs_background": "light"
          }
        }
      ]
    },
    {
      "cell_type": "code",
      "source": [
        "plt.figure(figsize=(20,10))\n",
        "color = np.random.randn(6443)\n",
        "\n",
        "plt.suptitle('Interest Rate Depending on Financial Stability', fontsize=15)\n",
        "plt.subplot(311)\n",
        "#area = [df.interest_rate[i] * df.annual_income[i] for i in range(len(df.interest_rate))]\n",
        "#size = [6443*i for i in area]\n",
        "plt.scatter(df.interest_rate,df.annual_income, c=color )\n",
        "plt.ylabel('Annual Income')\n",
        "plt.subplot(312)\n",
        "plt.scatter(df.interest_rate,df.total_debit_limit, c=color )\n",
        "plt.ylabel('Debit limit')\n",
        "plt.subplot(313)\n",
        "plt.scatter(df.interest_rate,df.total_credit_limit, c=color )\n",
        "plt.ylabel('Credit limit')\n",
        "\n",
        "#plt.title('Interest Rate Depending on Financial Stability')"
      ],
      "metadata": {
        "colab": {
          "base_uri": "https://localhost:8080/",
          "height": 639
        },
        "id": "8zcgLGbegzzO",
        "outputId": "063226c7-7239-4ee3-c1fc-0f16949e7453"
      },
      "execution_count": 581,
      "outputs": [
        {
          "output_type": "execute_result",
          "data": {
            "text/plain": [
              "Text(0, 0.5, 'Credit limit')"
            ]
          },
          "metadata": {},
          "execution_count": 581
        },
        {
          "output_type": "display_data",
          "data": {
            "text/plain": [
              "<Figure size 1440x720 with 3 Axes>"
            ],
            "image/png": "[encoded data removed]"
          },
          "metadata": {
            "needs_background": "light"
          }
        }
      ]
    },
    {
      "cell_type": "code",
      "source": [
        "plt.hist(df['earliest_credit_line'],color = \"lightgreen\", ec=\"green\")\n",
        "plt.ylabel('Count')\n",
        "plt.xlabel('Earliest Credit Line')\n",
        "plt.title('Dependency of Loan Approval on Credit Line')"
      ],
      "metadata": {
        "colab": {
          "base_uri": "https://localhost:8080/",
          "height": 312
        },
        "id": "6RB2fUxQg7oA",
        "outputId": "df2958e9-92cf-4b77-ffc1-c114bb4189ea"
      },
      "execution_count": 582,
      "outputs": [
        {
          "output_type": "execute_result",
          "data": {
            "text/plain": [
              "Text(0.5, 1.0, 'Dependency of Loan Approval on Credit Line')"
            ]
          },
          "metadata": {},
          "execution_count": 582
        },
        {
          "output_type": "display_data",
          "data": {
            "text/plain": [
              "<Figure size 432x288 with 1 Axes>"
            ],
            "image/png": "[encoded data removed]"
          },
          "metadata": {
            "needs_background": "light"
          }
        }
      ]
    },
    {
      "cell_type": "code",
      "source": [
        "plt.figure(figsize=(30,15))\n",
        "my_pivot = df.pivot_table(index = 'interest_rate', \n",
        "                          columns = 'verified_income', \n",
        "                          fill_value = 0, \n",
        "                          aggfunc={'verified_income':len})['verified_income']\n",
        "my_pivot.plot.line()\n",
        "plt.tight_layout()\n",
        "plt.xlabel('Interest name')\n",
        "plt.ylabel('Count')\n",
        "plt.title('Dependency of Income Verification on Interest Rate')\n",
        "plt.show()"
      ],
      "metadata": {
        "colab": {
          "base_uri": "https://localhost:8080/",
          "height": 329
        },
        "id": "2c3mAhZdg-_E",
        "outputId": "69e4d091-2ca3-4783-de7e-9beec35457ae"
      },
      "execution_count": 583,
      "outputs": [
        {
          "output_type": "display_data",
          "data": {
            "text/plain": [
              "<Figure size 2160x1080 with 0 Axes>"
            ]
          },
          "metadata": {}
        },
        {
          "output_type": "display_data",
          "data": {
            "text/plain": [
              "<Figure size 432x288 with 1 Axes>"
            ],
            "image/png": "[encoded data removed]"
          },
          "metadata": {
            "needs_background": "light"
          }
        }
      ]
    },
    {
      "cell_type": "markdown",
      "source": [
        "## Feature Engineering"
      ],
      "metadata": {
        "id": "aiAVgin4hF_6"
      }
    },
    {
      "cell_type": "markdown",
      "source": [
        "#### 1]   Categorical Encoding"
      ],
      "metadata": {
        "id": "u9ONu6RXhKPL"
      }
    },
    {
      "cell_type": "code",
      "source": [
        "from sklearn import preprocessing\n",
        "label_encoder = preprocessing.LabelEncoder()\n",
        "df['homeownership']= label_encoder.fit_transform(df['homeownership'])\n",
        "df['verified_income']= label_encoder.fit_transform(df['verified_income'])\n",
        "df['loan_purpose']= label_encoder.fit_transform(df['loan_purpose'])\n",
        "df['application_type']= label_encoder.fit_transform(df['application_type'])\n",
        "df['initial_listing_status']= label_encoder.fit_transform(df['initial_listing_status'])"
      ],
      "metadata": {
        "id": "EjhIGK1BkuDq"
      },
      "execution_count": 584,
      "outputs": []
    },
    {
      "cell_type": "markdown",
      "source": [
        "#### 2] Feature Scaling"
      ],
      "metadata": {
        "id": "n6Vo_d6bhbrF"
      }
    },
    {
      "cell_type": "code",
      "source": [
        "y_ = df['interest_rate']"
      ],
      "metadata": {
        "id": "6T3nSbtyx-wQ"
      },
      "execution_count": 585,
      "outputs": []
    },
    {
      "cell_type": "code",
      "source": [
        "df = df.drop('interest_rate',axis=1)"
      ],
      "metadata": {
        "id": "R81dr-vBvIe8"
      },
      "execution_count": 586,
      "outputs": []
    },
    {
      "cell_type": "code",
      "source": [
        "from sklearn.preprocessing import StandardScaler"
      ],
      "metadata": {
        "id": "jhbTPj6ZutaU"
      },
      "execution_count": 587,
      "outputs": []
    },
    {
      "cell_type": "code",
      "source": [
        "scaler = StandardScaler()\n",
        "scaled_df = scaler.fit_transform(df)\n",
        "df_scaled = pd.DataFrame(scaled_df)\n",
        "df_scaled"
      ],
      "metadata": {
        "colab": {
          "base_uri": "https://localhost:8080/",
          "height": 488
        },
        "id": "sQHRMUHCuzE5",
        "outputId": "116b5a2d-f0a1-460b-d051-ccba545d5fe1"
      },
      "execution_count": 588,
      "outputs": [
        {
          "output_type": "execute_result",
          "data": {
            "text/plain": [
              "            0         1         2         3         4         5         6   \\\n",
              "0    -1.059452  1.181246 -0.671009  0.187934 -1.088024 -0.341281  0.818940   \n",
              "1     1.092179  1.181246 -0.248389  0.187934  0.037830 -0.341281  0.818940   \n",
              "2     1.092179  0.109458 -1.222252  0.187934  0.206525 -0.341281  0.818940   \n",
              "3    -1.059452 -0.962331 -0.854756  1.534831  1.557000 -0.341281 -1.256658   \n",
              "4    -1.059452  1.181246 -0.873131 -1.158963 -0.493008 -0.341281  0.818940   \n",
              "...        ...       ...       ...       ...       ...       ...       ...   \n",
              "6438 -1.328406 -0.962331  0.615224 -1.158963  0.386221 -0.341281  0.818940   \n",
              "6439 -0.790498  1.181246  0.642419  1.534831 -0.443500 -0.341281  0.818940   \n",
              "6440  0.823225  1.181246  2.177079  0.187934 -0.934915  1.255578 -1.723667   \n",
              "6441  0.554271 -0.962331  4.933293  0.187934 -0.604860 -0.341281  0.818940   \n",
              "6442  1.092179  1.181246 -0.928255  0.187934  0.493489 -0.341281  0.818940   \n",
              "\n",
              "            7         8         9   ...        27        28        29  \\\n",
              "0     1.268492 -0.822037 -1.490066  ... -0.813807  0.599904 -0.063766   \n",
              "1    -3.590542 -0.409064 -0.735844  ... -0.223737  0.599904 -0.063766   \n",
              "2     0.728600 -0.409064 -1.154856  ... -0.813807  0.599904 -0.063766   \n",
              "3     0.728600  0.416883 -0.568239  ... -0.223737 -0.079496 -0.063766   \n",
              "4     1.268492 -0.822037 -1.238659  ... -0.813807  0.599904 -0.063766   \n",
              "...        ...       ...       ...  ...       ...       ...       ...   \n",
              "6438 -1.026052 -0.409064  0.940206  ...  0.956402  0.599904 -0.063766   \n",
              "6439 -0.351186 -0.409064 -1.071054  ...  0.366332  0.599904 -0.063766   \n",
              "6440 -0.756105 -0.822037  0.772601  ... -0.813807 -3.169670 -0.063766   \n",
              "6441 -1.161025  0.003910  0.018379  ...  1.546471  0.599904 -0.063766   \n",
              "6442 -1.700918 -0.822037 -0.484436  ... -0.813807  0.599904 -0.063766   \n",
              "\n",
              "            30        31        32        33        34        35        36  \n",
              "0    -0.363979 -0.322573 -0.408137 -0.446765  1.501346  0.467846 -1.734920  \n",
              "1     2.654188  3.200778 -0.408137 -0.909943 -0.666069  0.467846 -1.734425  \n",
              "2    -0.363979 -0.762992 -0.408137 -1.122233 -0.666069  0.467846 -1.733930  \n",
              "3    -0.363979 -0.322573 -0.408137 -0.369568  1.501346  0.467846 -1.733435  \n",
              "4    -0.363979 -0.762992 -0.408137 -1.488916 -0.666069  0.467846 -1.732939  \n",
              "...        ...       ...       ...       ...       ...       ...       ...  \n",
              "6438 -0.363979 -0.762992 -0.408137  0.325199 -0.666069  0.467846  1.729552  \n",
              "6439 -0.363979 -0.762992 -0.408137 -0.639756 -0.666069  0.467846  1.730047  \n",
              "6440 -0.363979 -0.762992 -0.408137 -0.060783 -0.666069  0.467846  1.730542  \n",
              "6441 -0.363979 -0.762992 -0.408137 -0.157278 -0.666069  0.467846  1.731038  \n",
              "6442  2.654188 -0.322573 -0.408137  0.407221  1.501346  0.467846  1.731533  \n",
              "\n",
              "[6443 rows x 37 columns]"
            ],
            "text/html": [
              "\n",
              "  <div id=\"df-dd6ac4a0-1028-4aab-90f4-4c65b55728c3\">\n",
              "    <div class=\"colab-df-container\">\n",
              "      <div>\n",
              "<style scoped>\n",
              "    .dataframe tbody tr th:only-of-type {\n",
              "        vertical-align: middle;\n",
              "    }\n",
              "\n",
              "    .dataframe tbody tr th {\n",
              "        vertical-align: top;\n",
              "    }\n",
              "\n",
              "    .dataframe thead th {\n",
              "        text-align: right;\n",
              "    }\n",
              "</style>\n",
              "<table border=\"1\" class=\"dataframe\">\n",
              "  <thead>\n",
              "    <tr style=\"text-align: right;\">\n",
              "      <th></th>\n",
              "      <th>0</th>\n",
              "      <th>1</th>\n",
              "      <th>2</th>\n",
              "      <th>3</th>\n",
              "      <th>4</th>\n",
              "      <th>5</th>\n",
              "      <th>6</th>\n",
              "      <th>7</th>\n",
              "      <th>8</th>\n",
              "      <th>9</th>\n",
              "      <th>...</th>\n",
              "      <th>27</th>\n",
              "      <th>28</th>\n",
              "      <th>29</th>\n",
              "      <th>30</th>\n",
              "      <th>31</th>\n",
              "      <th>32</th>\n",
              "      <th>33</th>\n",
              "      <th>34</th>\n",
              "      <th>35</th>\n",
              "      <th>36</th>\n",
              "    </tr>\n",
              "  </thead>\n",
              "  <tbody>\n",
              "    <tr>\n",
              "      <th>0</th>\n",
              "      <td>-1.059452</td>\n",
              "      <td>1.181246</td>\n",
              "      <td>-0.671009</td>\n",
              "      <td>0.187934</td>\n",
              "      <td>-1.088024</td>\n",
              "      <td>-0.341281</td>\n",
              "      <td>0.818940</td>\n",
              "      <td>1.268492</td>\n",
              "      <td>-0.822037</td>\n",
              "      <td>-1.490066</td>\n",
              "      <td>...</td>\n",
              "      <td>-0.813807</td>\n",
              "      <td>0.599904</td>\n",
              "      <td>-0.063766</td>\n",
              "      <td>-0.363979</td>\n",
              "      <td>-0.322573</td>\n",
              "      <td>-0.408137</td>\n",
              "      <td>-0.446765</td>\n",
              "      <td>1.501346</td>\n",
              "      <td>0.467846</td>\n",
              "      <td>-1.734920</td>\n",
              "    </tr>\n",
              "    <tr>\n",
              "      <th>1</th>\n",
              "      <td>1.092179</td>\n",
              "      <td>1.181246</td>\n",
              "      <td>-0.248389</td>\n",
              "      <td>0.187934</td>\n",
              "      <td>0.037830</td>\n",
              "      <td>-0.341281</td>\n",
              "      <td>0.818940</td>\n",
              "      <td>-3.590542</td>\n",
              "      <td>-0.409064</td>\n",
              "      <td>-0.735844</td>\n",
              "      <td>...</td>\n",
              "      <td>-0.223737</td>\n",
              "      <td>0.599904</td>\n",
              "      <td>-0.063766</td>\n",
              "      <td>2.654188</td>\n",
              "      <td>3.200778</td>\n",
              "      <td>-0.408137</td>\n",
              "      <td>-0.909943</td>\n",
              "      <td>-0.666069</td>\n",
              "      <td>0.467846</td>\n",
              "      <td>-1.734425</td>\n",
              "    </tr>\n",
              "    <tr>\n",
              "      <th>2</th>\n",
              "      <td>1.092179</td>\n",
              "      <td>0.109458</td>\n",
              "      <td>-1.222252</td>\n",
              "      <td>0.187934</td>\n",
              "      <td>0.206525</td>\n",
              "      <td>-0.341281</td>\n",
              "      <td>0.818940</td>\n",
              "      <td>0.728600</td>\n",
              "      <td>-0.409064</td>\n",
              "      <td>-1.154856</td>\n",
              "      <td>...</td>\n",
              "      <td>-0.813807</td>\n",
              "      <td>0.599904</td>\n",
              "      <td>-0.063766</td>\n",
              "      <td>-0.363979</td>\n",
              "      <td>-0.762992</td>\n",
              "      <td>-0.408137</td>\n",
              "      <td>-1.122233</td>\n",
              "      <td>-0.666069</td>\n",
              "      <td>0.467846</td>\n",
              "      <td>-1.733930</td>\n",
              "    </tr>\n",
              "    <tr>\n",
              "      <th>3</th>\n",
              "      <td>-1.059452</td>\n",
              "      <td>-0.962331</td>\n",
              "      <td>-0.854756</td>\n",
              "      <td>1.534831</td>\n",
              "      <td>1.557000</td>\n",
              "      <td>-0.341281</td>\n",
              "      <td>-1.256658</td>\n",
              "      <td>0.728600</td>\n",
              "      <td>0.416883</td>\n",
              "      <td>-0.568239</td>\n",
              "      <td>...</td>\n",
              "      <td>-0.223737</td>\n",
              "      <td>-0.079496</td>\n",
              "      <td>-0.063766</td>\n",
              "      <td>-0.363979</td>\n",
              "      <td>-0.322573</td>\n",
              "      <td>-0.408137</td>\n",
              "      <td>-0.369568</td>\n",
              "      <td>1.501346</td>\n",
              "      <td>0.467846</td>\n",
              "      <td>-1.733435</td>\n",
              "    </tr>\n",
              "    <tr>\n",
              "      <th>4</th>\n",
              "      <td>-1.059452</td>\n",
              "      <td>1.181246</td>\n",
              "      <td>-0.873131</td>\n",
              "      <td>-1.158963</td>\n",
              "      <td>-0.493008</td>\n",
              "      <td>-0.341281</td>\n",
              "      <td>0.818940</td>\n",
              "      <td>1.268492</td>\n",
              "      <td>-0.822037</td>\n",
              "      <td>-1.238659</td>\n",
              "      <td>...</td>\n",
              "      <td>-0.813807</td>\n",
              "      <td>0.599904</td>\n",
              "      <td>-0.063766</td>\n",
              "      <td>-0.363979</td>\n",
              "      <td>-0.762992</td>\n",
              "      <td>-0.408137</td>\n",
              "      <td>-1.488916</td>\n",
              "      <td>-0.666069</td>\n",
              "      <td>0.467846</td>\n",
              "      <td>-1.732939</td>\n",
              "    </tr>\n",
              "    <tr>\n",
              "      <th>...</th>\n",
              "      <td>...</td>\n",
              "      <td>...</td>\n",
              "      <td>...</td>\n",
              "      <td>...</td>\n",
              "      <td>...</td>\n",
              "      <td>...</td>\n",
              "      <td>...</td>\n",
              "      <td>...</td>\n",
              "      <td>...</td>\n",
              "      <td>...</td>\n",
              "      <td>...</td>\n",
              "      <td>...</td>\n",
              "      <td>...</td>\n",
              "      <td>...</td>\n",
              "      <td>...</td>\n",
              "      <td>...</td>\n",
              "      <td>...</td>\n",
              "      <td>...</td>\n",
              "      <td>...</td>\n",
              "      <td>...</td>\n",
              "      <td>...</td>\n",
              "    </tr>\n",
              "    <tr>\n",
              "      <th>6438</th>\n",
              "      <td>-1.328406</td>\n",
              "      <td>-0.962331</td>\n",
              "      <td>0.615224</td>\n",
              "      <td>-1.158963</td>\n",
              "      <td>0.386221</td>\n",
              "      <td>-0.341281</td>\n",
              "      <td>0.818940</td>\n",
              "      <td>-1.026052</td>\n",
              "      <td>-0.409064</td>\n",
              "      <td>0.940206</td>\n",
              "      <td>...</td>\n",
              "      <td>0.956402</td>\n",
              "      <td>0.599904</td>\n",
              "      <td>-0.063766</td>\n",
              "      <td>-0.363979</td>\n",
              "      <td>-0.762992</td>\n",
              "      <td>-0.408137</td>\n",
              "      <td>0.325199</td>\n",
              "      <td>-0.666069</td>\n",
              "      <td>0.467846</td>\n",
              "      <td>1.729552</td>\n",
              "    </tr>\n",
              "    <tr>\n",
              "      <th>6439</th>\n",
              "      <td>-0.790498</td>\n",
              "      <td>1.181246</td>\n",
              "      <td>0.642419</td>\n",
              "      <td>1.534831</td>\n",
              "      <td>-0.443500</td>\n",
              "      <td>-0.341281</td>\n",
              "      <td>0.818940</td>\n",
              "      <td>-0.351186</td>\n",
              "      <td>-0.409064</td>\n",
              "      <td>-1.071054</td>\n",
              "      <td>...</td>\n",
              "      <td>0.366332</td>\n",
              "      <td>0.599904</td>\n",
              "      <td>-0.063766</td>\n",
              "      <td>-0.363979</td>\n",
              "      <td>-0.762992</td>\n",
              "      <td>-0.408137</td>\n",
              "      <td>-0.639756</td>\n",
              "      <td>-0.666069</td>\n",
              "      <td>0.467846</td>\n",
              "      <td>1.730047</td>\n",
              "    </tr>\n",
              "    <tr>\n",
              "      <th>6440</th>\n",
              "      <td>0.823225</td>\n",
              "      <td>1.181246</td>\n",
              "      <td>2.177079</td>\n",
              "      <td>0.187934</td>\n",
              "      <td>-0.934915</td>\n",
              "      <td>1.255578</td>\n",
              "      <td>-1.723667</td>\n",
              "      <td>-0.756105</td>\n",
              "      <td>-0.822037</td>\n",
              "      <td>0.772601</td>\n",
              "      <td>...</td>\n",
              "      <td>-0.813807</td>\n",
              "      <td>-3.169670</td>\n",
              "      <td>-0.063766</td>\n",
              "      <td>-0.363979</td>\n",
              "      <td>-0.762992</td>\n",
              "      <td>-0.408137</td>\n",
              "      <td>-0.060783</td>\n",
              "      <td>-0.666069</td>\n",
              "      <td>0.467846</td>\n",
              "      <td>1.730542</td>\n",
              "    </tr>\n",
              "    <tr>\n",
              "      <th>6441</th>\n",
              "      <td>0.554271</td>\n",
              "      <td>-0.962331</td>\n",
              "      <td>4.933293</td>\n",
              "      <td>0.187934</td>\n",
              "      <td>-0.604860</td>\n",
              "      <td>-0.341281</td>\n",
              "      <td>0.818940</td>\n",
              "      <td>-1.161025</td>\n",
              "      <td>0.003910</td>\n",
              "      <td>0.018379</td>\n",
              "      <td>...</td>\n",
              "      <td>1.546471</td>\n",
              "      <td>0.599904</td>\n",
              "      <td>-0.063766</td>\n",
              "      <td>-0.363979</td>\n",
              "      <td>-0.762992</td>\n",
              "      <td>-0.408137</td>\n",
              "      <td>-0.157278</td>\n",
              "      <td>-0.666069</td>\n",
              "      <td>0.467846</td>\n",
              "      <td>1.731038</td>\n",
              "    </tr>\n",
              "    <tr>\n",
              "      <th>6442</th>\n",
              "      <td>1.092179</td>\n",
              "      <td>1.181246</td>\n",
              "      <td>-0.928255</td>\n",
              "      <td>0.187934</td>\n",
              "      <td>0.493489</td>\n",
              "      <td>-0.341281</td>\n",
              "      <td>0.818940</td>\n",
              "      <td>-1.700918</td>\n",
              "      <td>-0.822037</td>\n",
              "      <td>-0.484436</td>\n",
              "      <td>...</td>\n",
              "      <td>-0.813807</td>\n",
              "      <td>0.599904</td>\n",
              "      <td>-0.063766</td>\n",
              "      <td>2.654188</td>\n",
              "      <td>-0.322573</td>\n",
              "      <td>-0.408137</td>\n",
              "      <td>0.407221</td>\n",
              "      <td>1.501346</td>\n",
              "      <td>0.467846</td>\n",
              "      <td>1.731533</td>\n",
              "    </tr>\n",
              "  </tbody>\n",
              "</table>\n",
              "<p>6443 rows × 37 columns</p>\n",
              "</div>\n",
              "      <button class=\"colab-df-convert\" onclick=\"convertToInteractive('df-dd6ac4a0-1028-4aab-90f4-4c65b55728c3')\"\n",
              "              title=\"Convert this dataframe to an interactive table.\"\n",
              "              style=\"display:none;\">\n",
              "        \n",
              "  <svg xmlns=\"http://www.w3.org/2000/svg\" height=\"24px\"viewBox=\"0 0 24 24\"\n",
              "       width=\"24px\">\n",
              "    <path d=\"M0 0h24v24H0V0z\" fill=\"none\"/>\n",
              "    <path d=\"M18.56 5.44l.94 2.06.94-2.06 2.06-.94-2.06-.94-.94-2.06-.94 2.06-2.06.94zm-11 1L8.5 8.5l.94-2.06 2.06-.94-2.06-.94L8.5 2.5l-.94 2.06-2.06.94zm10 10l.94 2.06.94-2.06 2.06-.94-2.06-.94-.94-2.06-.94 2.06-2.06.94z\"/><path d=\"M17.41 7.96l-1.37-1.37c-.4-.4-.92-.59-1.43-.59-.52 0-1.04.2-1.43.59L10.3 9.45l-7.72 7.72c-.78.78-.78 2.05 0 2.83L4 21.41c.39.39.9.59 1.41.59.51 0 1.02-.2 1.41-.59l7.78-7.78 2.81-2.81c.8-.78.8-2.07 0-2.86zM5.41 20L4 18.59l7.72-7.72 1.47 1.35L5.41 20z\"/>\n",
              "  </svg>\n",
              "      </button>\n",
              "      \n",
              "  <style>\n",
              "    .colab-df-container {\n",
              "      display:flex;\n",
              "      flex-wrap:wrap;\n",
              "      gap: 12px;\n",
              "    }\n",
              "\n",
              "    .colab-df-convert {\n",
              "      background-color: #E8F0FE;\n",
              "      border: none;\n",
              "      border-radius: 50%;\n",
              "      cursor: pointer;\n",
              "      display: none;\n",
              "      fill: #1967D2;\n",
              "      height: 32px;\n",
              "      padding: 0 0 0 0;\n",
              "      width: 32px;\n",
              "    }\n",
              "\n",
              "    .colab-df-convert:hover {\n",
              "      background-color: #E2EBFA;\n",
              "      box-shadow: 0px 1px 2px rgba(60, 64, 67, 0.3), 0px 1px 3px 1px rgba(60, 64, 67, 0.15);\n",
              "      fill: #174EA6;\n",
              "    }\n",
              "\n",
              "    [theme=dark] .colab-df-convert {\n",
              "      background-color: #3B4455;\n",
              "      fill: #D2E3FC;\n",
              "    }\n",
              "\n",
              "    [theme=dark] .colab-df-convert:hover {\n",
              "      background-color: #434B5C;\n",
              "      box-shadow: 0px 1px 3px 1px rgba(0, 0, 0, 0.15);\n",
              "      filter: drop-shadow(0px 1px 2px rgba(0, 0, 0, 0.3));\n",
              "      fill: #FFFFFF;\n",
              "    }\n",
              "  </style>\n",
              "\n",
              "      <script>\n",
              "        const buttonEl =\n",
              "          document.querySelector('#df-dd6ac4a0-1028-4aab-90f4-4c65b55728c3 button.colab-df-convert');\n",
              "        buttonEl.style.display =\n",
              "          google.colab.kernel.accessAllowed ? 'block' : 'none';\n",
              "\n",
              "        async function convertToInteractive(key) {\n",
              "          const element = document.querySelector('#df-dd6ac4a0-1028-4aab-90f4-4c65b55728c3');\n",
              "          const dataTable =\n",
              "            await google.colab.kernel.invokeFunction('convertToInteractive',\n",
              "                                                     [key], {});\n",
              "          if (!dataTable) return;\n",
              "\n",
              "          const docLinkHtml = 'Like what you see? Visit the ' +\n",
              "            '<a target=\"_blank\" href=https://colab.research.google.com/notebooks/data_table.ipynb>data table notebook</a>'\n",
              "            + ' to learn more about interactive tables.';\n",
              "          element.innerHTML = '';\n",
              "          dataTable['output_type'] = 'display_data';\n",
              "          await google.colab.output.renderOutput(dataTable, element);\n",
              "          const docLink = document.createElement('div');\n",
              "          docLink.innerHTML = docLinkHtml;\n",
              "          element.appendChild(docLink);\n",
              "        }\n",
              "      </script>\n",
              "    </div>\n",
              "  </div>\n",
              "  "
            ]
          },
          "metadata": {},
          "execution_count": 588
        }
      ]
    },
    {
      "cell_type": "markdown",
      "source": [
        "## Modeling"
      ],
      "metadata": {
        "id": "zghi7pDFUNeD"
      }
    },
    {
      "cell_type": "code",
      "source": [
        "X = df_scaled\n",
        "y = y_"
      ],
      "metadata": {
        "id": "OnZ8NR7nxpAo"
      },
      "execution_count": null,
      "outputs": []
    },
    {
      "cell_type": "markdown",
      "source": [
        "#### Linear Regression "
      ],
      "metadata": {
        "id": "fMREVYc_jBvq"
      }
    },
    {
      "cell_type": "code",
      "source": [
        "from sklearn.model_selection import train_test_split\n",
        "from sklearn.linear_model import LinearRegression\n",
        "X_train, X_test, y_train, y_test = train_test_split(X,y,test_size=0.2, random_state=42)"
      ],
      "metadata": {
        "id": "scuAYdXXB0kn"
      },
      "execution_count": null,
      "outputs": []
    },
    {
      "cell_type": "code",
      "source": [
        "reg = LinearRegression().fit(X_train,y_train)\n",
        "reg.score(X, y)"
      ],
      "metadata": {
        "colab": {
          "base_uri": "https://localhost:8080/"
        },
        "id": "nB340biQCBVO",
        "outputId": "00aed538-6186-49bc-94f0-24acb705d97c"
      },
      "execution_count": null,
      "outputs": [
        {
          "output_type": "execute_result",
          "data": {
            "text/plain": [
              "0.3891338347855863"
            ]
          },
          "metadata": {},
          "execution_count": 399
        }
      ]
    },
    {
      "cell_type": "code",
      "source": [
        "predict = reg.predict(X_test)\n",
        "predict.shape"
      ],
      "metadata": {
        "colab": {
          "base_uri": "https://localhost:8080/"
        },
        "id": "BUGgKQdyEp2A",
        "outputId": "f3f25094-6820-4789-bc9e-41f5c982f364"
      },
      "execution_count": null,
      "outputs": [
        {
          "output_type": "execute_result",
          "data": {
            "text/plain": [
              "(1289,)"
            ]
          },
          "metadata": {},
          "execution_count": 400
        }
      ]
    },
    {
      "cell_type": "code",
      "source": [
        "from sklearn.metrics import mean_squared_error\n",
        "mean_squared_error(y_test,predict,squared = False)"
      ],
      "metadata": {
        "colab": {
          "base_uri": "https://localhost:8080/"
        },
        "id": "AeQW460bCF3V",
        "outputId": "a062acdb-2562-476f-9b59-ac8e133a1387"
      },
      "execution_count": null,
      "outputs": [
        {
          "output_type": "execute_result",
          "data": {
            "text/plain": [
              "4.070772749174214"
            ]
          },
          "metadata": {},
          "execution_count": 401
        }
      ]
    },
    {
      "cell_type": "markdown",
      "source": [
        "#### xgboost Regression"
      ],
      "metadata": {
        "id": "yQbbL88bjHCs"
      }
    },
    {
      "cell_type": "code",
      "source": [
        "# evaluate an xgboost regression model on the housing dataset\n",
        "from numpy import absolute\n",
        "from pandas import read_csv\n",
        "from sklearn.model_selection import cross_val_score\n",
        "from sklearn.model_selection import RepeatedKFold\n",
        "from xgboost import XGBRegressor\n",
        "model = XGBRegressor()\n",
        "# define model evaluation method\n",
        "cv = RepeatedKFold(n_splits=8, n_repeats=3, random_state=1)\n",
        "# evaluate model\n",
        "scores = cross_val_score(model, X, y, scoring='neg_mean_absolute_error', cv=cv, n_jobs=-1)\n",
        "# force scores to be positive\n",
        "scores = absolute(scores)\n",
        "print('Mean MAE: %.3f (%.3f)' % (scores.mean(), scores.std()) )"
      ],
      "metadata": {
        "colab": {
          "base_uri": "https://localhost:8080/"
        },
        "id": "ylQIUqkpz63o",
        "outputId": "87828c5f-3fa0-4734-ec24-f86e2fb3e54a"
      },
      "execution_count": null,
      "outputs": [
        {
          "output_type": "stream",
          "name": "stdout",
          "text": [
            "Mean MAE: 2.929 (0.093)\n"
          ]
        }
      ]
    },
    {
      "cell_type": "code",
      "source": [
        "from sklearn.metrics import mean_squared_error as mse"
      ],
      "metadata": {
        "id": "AMGwBXKH9YmW"
      },
      "execution_count": null,
      "outputs": []
    },
    {
      "cell_type": "code",
      "source": [
        "model.fit(X,y)\n",
        "yhat = model.predict(X_test)"
      ],
      "metadata": {
        "colab": {
          "base_uri": "https://localhost:8080/"
        },
        "id": "BlV36hEq2pCR",
        "outputId": "86a41798-4795-4b83-c728-1f5f8cabef14"
      },
      "execution_count": null,
      "outputs": [
        {
          "output_type": "stream",
          "name": "stdout",
          "text": [
            "[08:58:27] WARNING: /workspace/src/objective/regression_obj.cu:152: reg:linear is now deprecated in favor of reg:squarederror.\n"
          ]
        }
      ]
    },
    {
      "cell_type": "code",
      "source": [
        "rmse = np.sqrt(mse(y_test,yhat))\n",
        "rmse"
      ],
      "metadata": {
        "id": "LU1GiYtp9lns"
      },
      "execution_count": null,
      "outputs": []
    },
    {
      "cell_type": "markdown",
      "source": [
        "## Hyperparameter Tuning"
      ],
      "metadata": {
        "id": "ZQo-dp18hpbs"
      }
    },
    {
      "cell_type": "code",
      "source": [
        "from sklearn.model_selection import RandomizedSearchCV\n",
        "booster=['gbtree','gblinear']\n",
        "base_score=[0.25,0.5,0.75]\n",
        "\n",
        "## Hyper Parameter Optimization\n",
        "n_estimators = [100, 500, 900, 1100]\n",
        "max_depth = [2, 3, 5, 10]\n",
        "booster=['gbtree','gblinear']\n",
        "learning_rate=[0.05,0.1,0.15]\n",
        "min_child_weight=[1,2,3]\n",
        "# Define the grid of hyperparameters to search\n",
        "hyperparameter_grid = {\n",
        "    'n_estimators': n_estimators,\n",
        "    'max_depth':max_depth,\n",
        "    'learning_rate':learning_rate,\n",
        "    'min_child_weight':min_child_weight,\n",
        "    'booster':booster,\n",
        "    'base_score':base_score\n",
        "    }\n",
        "\n",
        "random_cv = RandomizedSearchCV(estimator=model,\n",
        "            param_distributions=hyperparameter_grid,\n",
        "            cv=5, n_iter=20,\n",
        "            scoring = 'neg_mean_absolute_error',n_jobs = 4,\n",
        "            verbose = 5, \n",
        "            return_train_score = True,\n",
        "            random_state=42)\n",
        "\n",
        "random_cv.fit(X_train,y_train)\n",
        "random_cv.best_estimator_"
      ],
      "metadata": {
        "id": "2shtlIBA_W-e",
        "colab": {
          "base_uri": "https://localhost:8080/"
        },
        "outputId": "8f2efce3-b0a6-44f0-e674-0ef7a2b2b7a9"
      },
      "execution_count": 558,
      "outputs": [
        {
          "output_type": "stream",
          "name": "stdout",
          "text": [
            "Fitting 5 folds for each of 20 candidates, totalling 100 fits\n",
            "[11:04:15] WARNING: /workspace/src/objective/regression_obj.cu:152: reg:linear is now deprecated in favor of reg:squarederror.\n"
          ]
        },
        {
          "output_type": "execute_result",
          "data": {
            "text/plain": [
              "XGBRegressor(learning_rate=0.05, max_depth=2, min_child_weight=3,\n",
              "             n_estimators=900)"
            ]
          },
          "metadata": {},
          "execution_count": 558
        }
      ]
    },
    {
      "cell_type": "code",
      "source": [
        "regressor = XGBRegressor(learning_rate=0.05, max_depth=2, min_child_weight=3,\n",
        "             n_estimators=900)"
      ],
      "metadata": {
        "id": "Ac0L5XDuC3k8"
      },
      "execution_count": 561,
      "outputs": []
    },
    {
      "cell_type": "code",
      "source": [
        "cv = RepeatedKFold(n_splits=10, n_repeats=3, random_state=1)\n",
        "# evaluate model\n",
        "scores = cross_val_score(regressor, X, y, scoring='neg_mean_absolute_error', cv=cv, n_jobs=-1)\n",
        "# force scores to be positive\n",
        "scores = absolute(scores)\n",
        "print('Mean MAE: %.3f (%.3f)' % (scores.mean(), scores.std()) )"
      ],
      "metadata": {
        "colab": {
          "base_uri": "https://localhost:8080/"
        },
        "id": "qXpSrcP4DHLE",
        "outputId": "3c0bc697-db7c-4f01-d30c-b53972c06731"
      },
      "execution_count": 562,
      "outputs": [
        {
          "output_type": "stream",
          "name": "stdout",
          "text": [
            "Mean MAE: 2.886 (0.095)\n"
          ]
        }
      ]
    },
    {
      "cell_type": "code",
      "source": [
        "regressor.fit(X,y)\n",
        "yhat = regressor.predict(X_test)"
      ],
      "metadata": {
        "colab": {
          "base_uri": "https://localhost:8080/"
        },
        "id": "X7qFntIJDZGw",
        "outputId": "6ef03265-e3b4-4e80-dba8-e5d4a278e292"
      },
      "execution_count": 563,
      "outputs": [
        {
          "output_type": "stream",
          "name": "stdout",
          "text": [
            "[11:07:14] WARNING: /workspace/src/objective/regression_obj.cu:152: reg:linear is now deprecated in favor of reg:squarederror.\n"
          ]
        }
      ]
    },
    {
      "cell_type": "markdown",
      "source": [
        "## Accuracy"
      ],
      "metadata": {
        "id": "DgQ3dHtchxiH"
      }
    },
    {
      "cell_type": "code",
      "source": [
        "mean_squared_error(y_test,yhat,squared = False)"
      ],
      "metadata": {
        "colab": {
          "base_uri": "https://localhost:8080/"
        },
        "id": "0Wx05PmWFREy",
        "outputId": "f69744d4-bbf4-43a4-e223-16119c491d9f"
      },
      "execution_count": 564,
      "outputs": [
        {
          "output_type": "execute_result",
          "data": {
            "text/plain": [
              "3.5228696227308425"
            ]
          },
          "metadata": {},
          "execution_count": 564
        }
      ]
    },
    {
      "cell_type": "code",
      "source": [
        "y_test.plot.density(color='green')\n",
        "pd.DataFrame(yhat).plot.density(color='blue')\n",
        "plt.title('Density plot for Interest rate')\n",
        "plt.show()"
      ],
      "metadata": {
        "colab": {
          "base_uri": "https://localhost:8080/",
          "height": 529
        },
        "id": "jgzwHD4rkSyz",
        "outputId": "2dd7b11b-b7f6-48c3-e5eb-c3ed3726d773"
      },
      "execution_count": 592,
      "outputs": [
        {
          "output_type": "display_data",
          "data": {
            "text/plain": [
              "<Figure size 432x288 with 1 Axes>"
            ],
            "image/png": "[encoded data removed]"
          },
          "metadata": {
            "needs_background": "light"
          }
        },
        {
          "output_type": "display_data",
          "data": {
            "text/plain": [
              "<Figure size 432x288 with 1 Axes>"
            ],
            "image/png": "[encoded data removed]"
          },
          "metadata": {
            "needs_background": "light"
          }
        }
      ]
    },
    {
      "cell_type": "markdown",
      "source": [
        "## Test Data\n",
        "---"
      ],
      "metadata": {
        "id": "6I-csAZRLw9-"
      }
    },
    {
      "cell_type": "code",
      "source": [
        "from google.colab import drive\n",
        "drive.mount('/content/drive')"
      ],
      "metadata": {
        "id": "PBBQgFIDUUwc"
      },
      "execution_count": null,
      "outputs": []
    },
    {
      "cell_type": "code",
      "source": [
        "# import the test data \n",
        "uploaded = files.upload()"
      ],
      "metadata": {
        "id": "JtsrUuT3CH7C",
        "colab": {
          "base_uri": "https://localhost:8080/",
          "height": 74
        },
        "outputId": "c22d0839-6a90-487f-b114-98ed9609c7b9"
      },
      "execution_count": null,
      "outputs": [
        {
          "output_type": "display_data",
          "data": {
            "text/plain": [
              "<IPython.core.display.HTML object>"
            ],
            "text/html": [
              "\n",
              "     <input type=\"file\" id=\"files-73012699-f34d-40cd-bf15-d6597ff34cda\" name=\"files[]\" multiple disabled\n",
              "        style=\"border:none\" />\n",
              "     <output id=\"result-73012699-f34d-40cd-bf15-d6597ff34cda\">\n",
              "      Upload widget is only available when the cell has been executed in the\n",
              "      current browser session. Please rerun this cell to enable.\n",
              "      </output>\n",
              "      <script>// Copyright 2017 Google LLC\n",
              "//\n",
              "// Licensed under the Apache License, Version 2.0 (the \"License\");\n",
              "// you may not use this file except in compliance with the License.\n",
              "// You may obtain a copy of the License at\n",
              "//\n",
              "//      http://www.apache.org/licenses/LICENSE-2.0\n",
              "//\n",
              "// Unless required by applicable law or agreed to in writing, software\n",
              "// distributed under the License is distributed on an \"AS IS\" BASIS,\n",
              "// WITHOUT WARRANTIES OR CONDITIONS OF ANY KIND, either express or implied.\n",
              "// See the License for the specific language governing permissions and\n",
              "// limitations under the License.\n",
              "\n",
              "/**\n",
              " * @fileoverview Helpers for google.colab Python module.\n",
              " */\n",
              "(function(scope) {\n",
              "function span(text, styleAttributes = {}) {\n",
              "  const element = document.createElement('span');\n",
              "  element.textContent = text;\n",
              "  for (const key of Object.keys(styleAttributes)) {\n",
              "    element.style[key] = styleAttributes[key];\n",
              "  }\n",
              "  return element;\n",
              "}\n",
              "\n",
              "// Max number of bytes which will be uploaded at a time.\n",
              "const MAX_PAYLOAD_SIZE = 100 * 1024;\n",
              "\n",
              "function _uploadFiles(inputId, outputId) {\n",
              "  const steps = uploadFilesStep(inputId, outputId);\n",
              "  const outputElement = document.getElementById(outputId);\n",
              "  // Cache steps on the outputElement to make it available for the next call\n",
              "  // to uploadFilesContinue from Python.\n",
              "  outputElement.steps = steps;\n",
              "\n",
              "  return _uploadFilesContinue(outputId);\n",
              "}\n",
              "\n",
              "// This is roughly an async generator (not supported in the browser yet),\n",
              "// where there are multiple asynchronous steps and the Python side is going\n",
              "// to poll for completion of each step.\n",
              "// This uses a Promise to block the python side on completion of each step,\n",
              "// then passes the result of the previous step as the input to the next step.\n",
              "function _uploadFilesContinue(outputId) {\n",
              "  const outputElement = document.getElementById(outputId);\n",
              "  const steps = outputElement.steps;\n",
              "\n",
              "  const next = steps.next(outputElement.lastPromiseValue);\n",
              "  return Promise.resolve(next.value.promise).then((value) => {\n",
              "    // Cache the last promise value to make it available to the next\n",
              "    // step of the generator.\n",
              "    outputElement.lastPromiseValue = value;\n",
              "    return next.value.response;\n",
              "  });\n",
              "}\n",
              "\n",
              "/**\n",
              " * Generator function which is called between each async step of the upload\n",
              " * process.\n",
              " * @param {string} inputId Element ID of the input file picker element.\n",
              " * @param {string} outputId Element ID of the output display.\n",
              " * @return {!Iterable<!Object>} Iterable of next steps.\n",
              " */\n",
              "function* uploadFilesStep(inputId, outputId) {\n",
              "  const inputElement = document.getElementById(inputId);\n",
              "  inputElement.disabled = false;\n",
              "\n",
              "  const outputElement = document.getElementById(outputId);\n",
              "  outputElement.innerHTML = '';\n",
              "\n",
              "  const pickedPromise = new Promise((resolve) => {\n",
              "    inputElement.addEventListener('change', (e) => {\n",
              "      resolve(e.target.files);\n",
              "    });\n",
              "  });\n",
              "\n",
              "  const cancel = document.createElement('button');\n",
              "  inputElement.parentElement.appendChild(cancel);\n",
              "  cancel.textContent = 'Cancel upload';\n",
              "  const cancelPromise = new Promise((resolve) => {\n",
              "    cancel.onclick = () => {\n",
              "      resolve(null);\n",
              "    };\n",
              "  });\n",
              "\n",
              "  // Wait for the user to pick the files.\n",
              "  const files = yield {\n",
              "    promise: Promise.race([pickedPromise, cancelPromise]),\n",
              "    response: {\n",
              "      action: 'starting',\n",
              "    }\n",
              "  };\n",
              "\n",
              "  cancel.remove();\n",
              "\n",
              "  // Disable the input element since further picks are not allowed.\n",
              "  inputElement.disabled = true;\n",
              "\n",
              "  if (!files) {\n",
              "    return {\n",
              "      response: {\n",
              "        action: 'complete',\n",
              "      }\n",
              "    };\n",
              "  }\n",
              "\n",
              "  for (const file of files) {\n",
              "    const li = document.createElement('li');\n",
              "    li.append(span(file.name, {fontWeight: 'bold'}));\n",
              "    li.append(span(\n",
              "        `(${file.type || 'n/a'}) - ${file.size} bytes, ` +\n",
              "        `last modified: ${\n",
              "            file.lastModifiedDate ? file.lastModifiedDate.toLocaleDateString() :\n",
              "                                    'n/a'} - `));\n",
              "    const percent = span('0% done');\n",
              "    li.appendChild(percent);\n",
              "\n",
              "    outputElement.appendChild(li);\n",
              "\n",
              "    const fileDataPromise = new Promise((resolve) => {\n",
              "      const reader = new FileReader();\n",
              "      reader.onload = (e) => {\n",
              "        resolve(e.target.result);\n",
              "      };\n",
              "      reader.readAsArrayBuffer(file);\n",
              "    });\n",
              "    // Wait for the data to be ready.\n",
              "    let fileData = yield {\n",
              "      promise: fileDataPromise,\n",
              "      response: {\n",
              "        action: 'continue',\n",
              "      }\n",
              "    };\n",
              "\n",
              "    // Use a chunked sending to avoid message size limits. See b/62115660.\n",
              "    let position = 0;\n",
              "    do {\n",
              "      const length = Math.min(fileData.byteLength - position, MAX_PAYLOAD_SIZE);\n",
              "      const chunk = new Uint8Array(fileData, position, length);\n",
              "      position += length;\n",
              "\n",
              "      const base64 = btoa(String.fromCharCode.apply(null, chunk));\n",
              "      yield {\n",
              "        response: {\n",
              "          action: 'append',\n",
              "          file: file.name,\n",
              "          data: base64,\n",
              "        },\n",
              "      };\n",
              "\n",
              "      let percentDone = fileData.byteLength === 0 ?\n",
              "          100 :\n",
              "          Math.round((position / fileData.byteLength) * 100);\n",
              "      percent.textContent = `${percentDone}% done`;\n",
              "\n",
              "    } while (position < fileData.byteLength);\n",
              "  }\n",
              "\n",
              "  // All done.\n",
              "  yield {\n",
              "    response: {\n",
              "      action: 'complete',\n",
              "    }\n",
              "  };\n",
              "}\n",
              "\n",
              "scope.google = scope.google || {};\n",
              "scope.google.colab = scope.google.colab || {};\n",
              "scope.google.colab._files = {\n",
              "  _uploadFiles,\n",
              "  _uploadFilesContinue,\n",
              "};\n",
              "})(self);\n",
              "</script> "
            ]
          },
          "metadata": {}
        },
        {
          "output_type": "stream",
          "name": "stdout",
          "text": [
            "Saving loans_test_data.csv to loans_test_data.csv\n"
          ]
        }
      ]
    },
    {
      "cell_type": "code",
      "source": [
        "test_df = pd.read_csv('loans_test_data.csv')\n",
        "test_df.head()\n",
        "#test_df2 = test_df.dropna(subset=['emp_length','debt_to_income'])"
      ],
      "metadata": {
        "id": "hUznK9TsGkAx",
        "colab": {
          "base_uri": "https://localhost:8080/",
          "height": 352
        },
        "outputId": "4a6d1c59-69b7-4d6f-fc00-d633fe424415"
      },
      "execution_count": null,
      "outputs": [
        {
          "output_type": "execute_result",
          "data": {
            "text/plain": [
              "                       emp_title  emp_length state homeownership  \\\n",
              "0                             vp         2.0    IL      MORTGAGE   \n",
              "1  irrigation service technician         5.0    NJ          RENT   \n",
              "2            surgical assistant          2.0    LA      MORTGAGE   \n",
              "3                            NaN         NaN    NV          RENT   \n",
              "4                        teacher        10.0    AL          RENT   \n",
              "\n",
              "   annual_income  verified_income  debt_to_income  annual_income_joint  \\\n",
              "0        75000.0     Not Verified           26.19                  NaN   \n",
              "1        28000.0  Source Verified           21.86                  NaN   \n",
              "2        25992.0         Verified            9.25                  NaN   \n",
              "3        33000.0  Source Verified            3.89                  NaN   \n",
              "4        47000.0     Not Verified           15.82                  NaN   \n",
              "\n",
              "  verification_income_joint  debt_to_income_joint  ...  \\\n",
              "0                       NaN                   NaN  ...   \n",
              "1                       NaN                   NaN  ...   \n",
              "2                       NaN                   NaN  ...   \n",
              "3                       NaN                   NaN  ...   \n",
              "4                       NaN                   NaN  ...   \n",
              "\n",
              "   account_never_delinq_percent  tax_liens  public_record_bankrupt  \\\n",
              "0                          95.2          0                       0   \n",
              "1                         100.0          0                       0   \n",
              "2                          88.9          0                       0   \n",
              "3                         100.0          0                       1   \n",
              "4                          94.4          0                       0   \n",
              "\n",
              "         loan_purpose  application_type  loan_amount  term  \\\n",
              "0         credit_card        individual        20000    60   \n",
              "1               other        individual         2000    36   \n",
              "2  debt_consolidation        individual        12000    36   \n",
              "3  debt_consolidation        individual         5000    36   \n",
              "4    home_improvement        individual         2000    36   \n",
              "\n",
              "   initial_listing_status  disbursement_method    id  \n",
              "0                   whole                 Cash  7001  \n",
              "1                   whole                 Cash  7002  \n",
              "2                   whole                 Cash  7003  \n",
              "3              fractional                 Cash  7004  \n",
              "4              fractional                 Cash  7005  \n",
              "\n",
              "[5 rows x 45 columns]"
            ],
            "text/html": [
              "\n",
              "  <div id=\"df-e09f8332-d7d3-4840-910e-b6e561a2e52e\">\n",
              "    <div class=\"colab-df-container\">\n",
              "      <div>\n",
              "<style scoped>\n",
              "    .dataframe tbody tr th:only-of-type {\n",
              "        vertical-align: middle;\n",
              "    }\n",
              "\n",
              "    .dataframe tbody tr th {\n",
              "        vertical-align: top;\n",
              "    }\n",
              "\n",
              "    .dataframe thead th {\n",
              "        text-align: right;\n",
              "    }\n",
              "</style>\n",
              "<table border=\"1\" class=\"dataframe\">\n",
              "  <thead>\n",
              "    <tr style=\"text-align: right;\">\n",
              "      <th></th>\n",
              "      <th>emp_title</th>\n",
              "      <th>emp_length</th>\n",
              "      <th>state</th>\n",
              "      <th>homeownership</th>\n",
              "      <th>annual_income</th>\n",
              "      <th>verified_income</th>\n",
              "      <th>debt_to_income</th>\n",
              "      <th>annual_income_joint</th>\n",
              "      <th>verification_income_joint</th>\n",
              "      <th>debt_to_income_joint</th>\n",
              "      <th>...</th>\n",
              "      <th>account_never_delinq_percent</th>\n",
              "      <th>tax_liens</th>\n",
              "      <th>public_record_bankrupt</th>\n",
              "      <th>loan_purpose</th>\n",
              "      <th>application_type</th>\n",
              "      <th>loan_amount</th>\n",
              "      <th>term</th>\n",
              "      <th>initial_listing_status</th>\n",
              "      <th>disbursement_method</th>\n",
              "      <th>id</th>\n",
              "    </tr>\n",
              "  </thead>\n",
              "  <tbody>\n",
              "    <tr>\n",
              "      <th>0</th>\n",
              "      <td>vp</td>\n",
              "      <td>2.0</td>\n",
              "      <td>IL</td>\n",
              "      <td>MORTGAGE</td>\n",
              "      <td>75000.0</td>\n",
              "      <td>Not Verified</td>\n",
              "      <td>26.19</td>\n",
              "      <td>NaN</td>\n",
              "      <td>NaN</td>\n",
              "      <td>NaN</td>\n",
              "      <td>...</td>\n",
              "      <td>95.2</td>\n",
              "      <td>0</td>\n",
              "      <td>0</td>\n",
              "      <td>credit_card</td>\n",
              "      <td>individual</td>\n",
              "      <td>20000</td>\n",
              "      <td>60</td>\n",
              "      <td>whole</td>\n",
              "      <td>Cash</td>\n",
              "      <td>7001</td>\n",
              "    </tr>\n",
              "    <tr>\n",
              "      <th>1</th>\n",
              "      <td>irrigation service technician</td>\n",
              "      <td>5.0</td>\n",
              "      <td>NJ</td>\n",
              "      <td>RENT</td>\n",
              "      <td>28000.0</td>\n",
              "      <td>Source Verified</td>\n",
              "      <td>21.86</td>\n",
              "      <td>NaN</td>\n",
              "      <td>NaN</td>\n",
              "      <td>NaN</td>\n",
              "      <td>...</td>\n",
              "      <td>100.0</td>\n",
              "      <td>0</td>\n",
              "      <td>0</td>\n",
              "      <td>other</td>\n",
              "      <td>individual</td>\n",
              "      <td>2000</td>\n",
              "      <td>36</td>\n",
              "      <td>whole</td>\n",
              "      <td>Cash</td>\n",
              "      <td>7002</td>\n",
              "    </tr>\n",
              "    <tr>\n",
              "      <th>2</th>\n",
              "      <td>surgical assistant</td>\n",
              "      <td>2.0</td>\n",
              "      <td>LA</td>\n",
              "      <td>MORTGAGE</td>\n",
              "      <td>25992.0</td>\n",
              "      <td>Verified</td>\n",
              "      <td>9.25</td>\n",
              "      <td>NaN</td>\n",
              "      <td>NaN</td>\n",
              "      <td>NaN</td>\n",
              "      <td>...</td>\n",
              "      <td>88.9</td>\n",
              "      <td>0</td>\n",
              "      <td>0</td>\n",
              "      <td>debt_consolidation</td>\n",
              "      <td>individual</td>\n",
              "      <td>12000</td>\n",
              "      <td>36</td>\n",
              "      <td>whole</td>\n",
              "      <td>Cash</td>\n",
              "      <td>7003</td>\n",
              "    </tr>\n",
              "    <tr>\n",
              "      <th>3</th>\n",
              "      <td>NaN</td>\n",
              "      <td>NaN</td>\n",
              "      <td>NV</td>\n",
              "      <td>RENT</td>\n",
              "      <td>33000.0</td>\n",
              "      <td>Source Verified</td>\n",
              "      <td>3.89</td>\n",
              "      <td>NaN</td>\n",
              "      <td>NaN</td>\n",
              "      <td>NaN</td>\n",
              "      <td>...</td>\n",
              "      <td>100.0</td>\n",
              "      <td>0</td>\n",
              "      <td>1</td>\n",
              "      <td>debt_consolidation</td>\n",
              "      <td>individual</td>\n",
              "      <td>5000</td>\n",
              "      <td>36</td>\n",
              "      <td>fractional</td>\n",
              "      <td>Cash</td>\n",
              "      <td>7004</td>\n",
              "    </tr>\n",
              "    <tr>\n",
              "      <th>4</th>\n",
              "      <td>teacher</td>\n",
              "      <td>10.0</td>\n",
              "      <td>AL</td>\n",
              "      <td>RENT</td>\n",
              "      <td>47000.0</td>\n",
              "      <td>Not Verified</td>\n",
              "      <td>15.82</td>\n",
              "      <td>NaN</td>\n",
              "      <td>NaN</td>\n",
              "      <td>NaN</td>\n",
              "      <td>...</td>\n",
              "      <td>94.4</td>\n",
              "      <td>0</td>\n",
              "      <td>0</td>\n",
              "      <td>home_improvement</td>\n",
              "      <td>individual</td>\n",
              "      <td>2000</td>\n",
              "      <td>36</td>\n",
              "      <td>fractional</td>\n",
              "      <td>Cash</td>\n",
              "      <td>7005</td>\n",
              "    </tr>\n",
              "  </tbody>\n",
              "</table>\n",
              "<p>5 rows × 45 columns</p>\n",
              "</div>\n",
              "      <button class=\"colab-df-convert\" onclick=\"convertToInteractive('df-e09f8332-d7d3-4840-910e-b6e561a2e52e')\"\n",
              "              title=\"Convert this dataframe to an interactive table.\"\n",
              "              style=\"display:none;\">\n",
              "        \n",
              "  <svg xmlns=\"http://www.w3.org/2000/svg\" height=\"24px\"viewBox=\"0 0 24 24\"\n",
              "       width=\"24px\">\n",
              "    <path d=\"M0 0h24v24H0V0z\" fill=\"none\"/>\n",
              "    <path d=\"M18.56 5.44l.94 2.06.94-2.06 2.06-.94-2.06-.94-.94-2.06-.94 2.06-2.06.94zm-11 1L8.5 8.5l.94-2.06 2.06-.94-2.06-.94L8.5 2.5l-.94 2.06-2.06.94zm10 10l.94 2.06.94-2.06 2.06-.94-2.06-.94-.94-2.06-.94 2.06-2.06.94z\"/><path d=\"M17.41 7.96l-1.37-1.37c-.4-.4-.92-.59-1.43-.59-.52 0-1.04.2-1.43.59L10.3 9.45l-7.72 7.72c-.78.78-.78 2.05 0 2.83L4 21.41c.39.39.9.59 1.41.59.51 0 1.02-.2 1.41-.59l7.78-7.78 2.81-2.81c.8-.78.8-2.07 0-2.86zM5.41 20L4 18.59l7.72-7.72 1.47 1.35L5.41 20z\"/>\n",
              "  </svg>\n",
              "      </button>\n",
              "      \n",
              "  <style>\n",
              "    .colab-df-container {\n",
              "      display:flex;\n",
              "      flex-wrap:wrap;\n",
              "      gap: 12px;\n",
              "    }\n",
              "\n",
              "    .colab-df-convert {\n",
              "      background-color: #E8F0FE;\n",
              "      border: none;\n",
              "      border-radius: 50%;\n",
              "      cursor: pointer;\n",
              "      display: none;\n",
              "      fill: #1967D2;\n",
              "      height: 32px;\n",
              "      padding: 0 0 0 0;\n",
              "      width: 32px;\n",
              "    }\n",
              "\n",
              "    .colab-df-convert:hover {\n",
              "      background-color: #E2EBFA;\n",
              "      box-shadow: 0px 1px 2px rgba(60, 64, 67, 0.3), 0px 1px 3px 1px rgba(60, 64, 67, 0.15);\n",
              "      fill: #174EA6;\n",
              "    }\n",
              "\n",
              "    [theme=dark] .colab-df-convert {\n",
              "      background-color: #3B4455;\n",
              "      fill: #D2E3FC;\n",
              "    }\n",
              "\n",
              "    [theme=dark] .colab-df-convert:hover {\n",
              "      background-color: #434B5C;\n",
              "      box-shadow: 0px 1px 3px 1px rgba(0, 0, 0, 0.15);\n",
              "      filter: drop-shadow(0px 1px 2px rgba(0, 0, 0, 0.3));\n",
              "      fill: #FFFFFF;\n",
              "    }\n",
              "  </style>\n",
              "\n",
              "      <script>\n",
              "        const buttonEl =\n",
              "          document.querySelector('#df-e09f8332-d7d3-4840-910e-b6e561a2e52e button.colab-df-convert');\n",
              "        buttonEl.style.display =\n",
              "          google.colab.kernel.accessAllowed ? 'block' : 'none';\n",
              "\n",
              "        async function convertToInteractive(key) {\n",
              "          const element = document.querySelector('#df-e09f8332-d7d3-4840-910e-b6e561a2e52e');\n",
              "          const dataTable =\n",
              "            await google.colab.kernel.invokeFunction('convertToInteractive',\n",
              "                                                     [key], {});\n",
              "          if (!dataTable) return;\n",
              "\n",
              "          const docLinkHtml = 'Like what you see? Visit the ' +\n",
              "            '<a target=\"_blank\" href=https://colab.research.google.com/notebooks/data_table.ipynb>data table notebook</a>'\n",
              "            + ' to learn more about interactive tables.';\n",
              "          element.innerHTML = '';\n",
              "          dataTable['output_type'] = 'display_data';\n",
              "          await google.colab.output.renderOutput(dataTable, element);\n",
              "          const docLink = document.createElement('div');\n",
              "          docLink.innerHTML = docLinkHtml;\n",
              "          element.appendChild(docLink);\n",
              "        }\n",
              "      </script>\n",
              "    </div>\n",
              "  </div>\n",
              "  "
            ]
          },
          "metadata": {},
          "execution_count": 501
        }
      ]
    },
    {
      "cell_type": "code",
      "source": [
        "test_df['months_since_last_credit_inquiry']=test_df['months_since_last_credit_inquiry'].fillna(test_df['months_since_last_credit_inquiry'].mean())"
      ],
      "metadata": {
        "id": "pBQdYpBKHCp_"
      },
      "execution_count": null,
      "outputs": []
    },
    {
      "cell_type": "code",
      "source": [
        "test_df = test_df.drop(['num_accounts_120d_past_due','num_accounts_120d_past_due','annual_income_joint','verification_income_joint','debt_to_income_joint','months_since_90d_late','emp_title','state','disbursement_method'],axis=1)"
      ],
      "metadata": {
        "id": "trGH2-F43dFq"
      },
      "execution_count": null,
      "outputs": []
    },
    {
      "cell_type": "code",
      "source": [
        "#test_df = test_df.dropna(subset=['emp_length'])"
      ],
      "metadata": {
        "id": "DH10O0ydH0Qu"
      },
      "execution_count": null,
      "outputs": []
    },
    {
      "cell_type": "code",
      "source": [
        "test_df['months_since_last_delinq'] = test_df['months_since_last_delinq'].fillna(test_df['months_since_last_delinq'].max())"
      ],
      "metadata": {
        "id": "i0Zih5jWHDK1"
      },
      "execution_count": null,
      "outputs": []
    },
    {
      "cell_type": "code",
      "source": [
        "test_df.loc[test_df['total_credit_limit']>1000000,'total_credit_limit']=1000000\n",
        "test_df.loc[test_df['annual_income']>500000,'annual_income'] = 500000\n",
        "test_df.loc[test_df['total_debit_limit']>150000,'total_debit_limit']=150000\n",
        "test_df.loc[test_df['debt_to_income']>80,'debt_to_income']=80\n",
        "test_df.loc[test_df['inquiries_last_12m']>10,'debt_to_income']=10\n",
        "test_df.loc[test_df['account_never_delinq_percent']<50,'account_never_delinq_percent']=50\n",
        "test_df.loc[test_df['accounts_opened_24m']>18,'accounts_opened_24m']=18\n",
        "test_df.loc[test_df['earliest_credit_line']<1975,'earliest_credit_line']=1975\n",
        "test_df.loc[test_df['delinq_2y']>5,'delinq_2y']=5"
      ],
      "metadata": {
        "id": "km3ZV5xWHDia"
      },
      "execution_count": null,
      "outputs": []
    },
    {
      "cell_type": "code",
      "source": [
        "test_df.loc[test_df['num_cc_carrying_balance']>18,'num_cc_carrying_balance']=18\n",
        "test_df['debt_to_income'] = test_df['debt_to_income'].fillna(test_df['debt_to_income'].mean())\n",
        "test_df['emp_length'] = test_df['emp_length'].fillna(test_df['emp_length'].min())"
      ],
      "metadata": {
        "id": "kH9aEDNjHDxy"
      },
      "execution_count": null,
      "outputs": []
    },
    {
      "cell_type": "code",
      "source": [
        "test_df.isnull().sum()"
      ],
      "metadata": {
        "colab": {
          "base_uri": "https://localhost:8080/"
        },
        "id": "4HB743vz4KIb",
        "outputId": "cbd67517-c566-4dee-9de5-4aa1c635cc02"
      },
      "execution_count": null,
      "outputs": [
        {
          "output_type": "execute_result",
          "data": {
            "text/plain": [
              "emp_length                          0\n",
              "homeownership                       0\n",
              "annual_income                       0\n",
              "verified_income                     0\n",
              "debt_to_income                      0\n",
              "delinq_2y                           0\n",
              "months_since_last_delinq            0\n",
              "earliest_credit_line                0\n",
              "inquiries_last_12m                  0\n",
              "total_credit_lines                  0\n",
              "open_credit_lines                   0\n",
              "total_credit_limit                  0\n",
              "total_credit_utilized               0\n",
              "num_collections_last_12m            0\n",
              "num_historical_failed_to_pay        0\n",
              "current_accounts_delinq             0\n",
              "total_collection_amount_ever        0\n",
              "current_installment_accounts        0\n",
              "accounts_opened_24m                 0\n",
              "months_since_last_credit_inquiry    0\n",
              "num_satisfactory_accounts           0\n",
              "num_accounts_30d_past_due           0\n",
              "num_active_debit_accounts           0\n",
              "total_debit_limit                   0\n",
              "num_total_cc_accounts               0\n",
              "num_open_cc_accounts                0\n",
              "num_cc_carrying_balance             0\n",
              "num_mort_accounts                   0\n",
              "account_never_delinq_percent        0\n",
              "tax_liens                           0\n",
              "public_record_bankrupt              0\n",
              "loan_purpose                        0\n",
              "application_type                    0\n",
              "loan_amount                         0\n",
              "term                                0\n",
              "initial_listing_status              0\n",
              "id                                  0\n",
              "dtype: int64"
            ]
          },
          "metadata": {},
          "execution_count": 509
        }
      ]
    },
    {
      "cell_type": "code",
      "source": [
        "from sklearn import preprocessing\n",
        "label_encoder = preprocessing.LabelEncoder()\n",
        "test_df['homeownership']= label_encoder.fit_transform(test_df['homeownership'])\n",
        "test_df['verified_income']= label_encoder.fit_transform(test_df['verified_income'])\n",
        "test_df['loan_purpose']= label_encoder.fit_transform(test_df['loan_purpose'])\n",
        "test_df['application_type']= label_encoder.fit_transform(test_df['application_type'])\n",
        "test_df['initial_listing_status']= label_encoder.fit_transform(test_df['initial_listing_status'])"
      ],
      "metadata": {
        "id": "j7efjate4WTa"
      },
      "execution_count": null,
      "outputs": []
    },
    {
      "cell_type": "code",
      "source": [
        "scaler = StandardScaler()\n",
        "scaled_df1 = scaler.fit_transform(test_df)\n",
        "df_scaled1 = pd.DataFrame(scaled_df1)\n",
        "df_scaled1"
      ],
      "metadata": {
        "colab": {
          "base_uri": "https://localhost:8080/",
          "height": 488
        },
        "id": "tNghp9GS4j1S",
        "outputId": "343d06cf-b3fd-4e24-d3d8-1a6897426f92"
      },
      "execution_count": null,
      "outputs": [
        {
          "output_type": "execute_result",
          "data": {
            "text/plain": [
              "            0         1         2         3         4         5         6   \\\n",
              "0    -0.875474 -0.998096 -0.055609 -1.138698  0.634378 -0.338268 -1.356133   \n",
              "1    -0.102391  1.176405 -0.921224  0.185369  0.257497 -0.338268  0.816184   \n",
              "2    -0.875474 -0.998096 -0.958206  1.509437 -0.840071  1.325346 -1.776582   \n",
              "3    -1.390862  1.176405 -0.829138  0.185369 -1.306603 -0.338268  0.816184   \n",
              "4     1.186081  1.176405 -0.571295 -1.138698 -0.268222 -0.338268 -0.281654   \n",
              "...        ...       ...       ...       ...       ...       ...       ...   \n",
              "2995 -0.360085  1.176405 -1.039095  0.185369  0.574321 -0.338268  0.816184   \n",
              "2996 -0.617779 -0.998096 -0.737051 -1.138698 -0.762606 -0.338268  0.816184   \n",
              "2997 -1.133168  1.176405 -0.331869 -1.138698 -1.397995 -0.338268  0.816184   \n",
              "2998  1.186081  1.176405 -0.355186  1.509437  0.381963 -0.338268  0.816184   \n",
              "2999  0.155304  1.176405  0.220651  0.185369  0.368037 -0.338268  0.816184   \n",
              "\n",
              "            7         8         9   ...        27        28        29  \\\n",
              "0    -2.003275 -0.409399 -0.152071  ...  0.344713  0.023132 -0.131187   \n",
              "1     0.336139 -0.409399 -1.081737  ... -0.794835  0.583525 -0.131187   \n",
              "2    -0.833568 -0.409399 -1.166252  ... -0.794835 -0.712385 -0.131187   \n",
              "3    -0.443666  0.451588  2.045322  ... -0.225061  0.583525 -0.131187   \n",
              "4    -0.703601 -0.839893 -0.405616  ... -0.794835 -0.070267 -0.131187   \n",
              "...        ...       ...       ...  ...       ...       ...       ...   \n",
              "2995 -0.443666  0.882081  0.862110  ... -0.794835  0.583525 -0.131187   \n",
              "2996  0.466107  0.882081 -0.912707  ... -0.225061  0.583525 -0.131187   \n",
              "2997  0.856009 -0.839893 -1.588828  ... -0.794835  0.583525 -0.131187   \n",
              "2998  0.466107 -0.409399 -0.405616  ... -0.794835  0.583525 -0.131187   \n",
              "2999  0.076204  0.451588  0.270505  ... -0.794835  0.583525 -0.131187   \n",
              "\n",
              "            30        31        32        33        34        35        36  \n",
              "0    -0.355775 -0.774958 -0.412367  0.352632  1.505979  0.454706 -1.731474  \n",
              "1    -0.355775  2.275487 -0.412367 -1.400823 -0.664020  0.454706 -1.730319  \n",
              "2    -0.355775 -0.339180 -0.412367 -0.426681 -0.664020  0.454706 -1.729164  \n",
              "3     2.642331 -0.339180 -0.412367 -1.108581 -0.664020 -2.199222 -1.728009  \n",
              "4    -0.355775  0.096597 -0.412367 -1.400823 -0.664020 -2.199222 -1.726855  \n",
              "...        ...       ...       ...       ...       ...       ...       ...  \n",
              "2995  2.642331 -0.339180 -0.412367 -0.621510 -0.664020  0.454706  1.726855  \n",
              "2996  2.642331  0.096597 -0.412367 -1.303409 -0.664020  0.454706  1.728009  \n",
              "2997 -0.355775  0.968153 -0.412367 -1.011167 -0.664020 -2.199222  1.729164  \n",
              "2998  2.642331 -0.774958 -0.412367 -0.329267 -0.664020 -2.199222  1.730319  \n",
              "2999 -0.355775 -1.210736 -0.412367 -0.621510  1.505979  0.454706  1.731474  \n",
              "\n",
              "[3000 rows x 37 columns]"
            ],
            "text/html": [
              "\n",
              "  <div id=\"df-1a943e16-37a8-48d3-98fe-b8f0984cfe4f\">\n",
              "    <div class=\"colab-df-container\">\n",
              "      <div>\n",
              "<style scoped>\n",
              "    .dataframe tbody tr th:only-of-type {\n",
              "        vertical-align: middle;\n",
              "    }\n",
              "\n",
              "    .dataframe tbody tr th {\n",
              "        vertical-align: top;\n",
              "    }\n",
              "\n",
              "    .dataframe thead th {\n",
              "        text-align: right;\n",
              "    }\n",
              "</style>\n",
              "<table border=\"1\" class=\"dataframe\">\n",
              "  <thead>\n",
              "    <tr style=\"text-align: right;\">\n",
              "      <th></th>\n",
              "      <th>0</th>\n",
              "      <th>1</th>\n",
              "      <th>2</th>\n",
              "      <th>3</th>\n",
              "      <th>4</th>\n",
              "      <th>5</th>\n",
              "      <th>6</th>\n",
              "      <th>7</th>\n",
              "      <th>8</th>\n",
              "      <th>9</th>\n",
              "      <th>...</th>\n",
              "      <th>27</th>\n",
              "      <th>28</th>\n",
              "      <th>29</th>\n",
              "      <th>30</th>\n",
              "      <th>31</th>\n",
              "      <th>32</th>\n",
              "      <th>33</th>\n",
              "      <th>34</th>\n",
              "      <th>35</th>\n",
              "      <th>36</th>\n",
              "    </tr>\n",
              "  </thead>\n",
              "  <tbody>\n",
              "    <tr>\n",
              "      <th>0</th>\n",
              "      <td>-0.875474</td>\n",
              "      <td>-0.998096</td>\n",
              "      <td>-0.055609</td>\n",
              "      <td>-1.138698</td>\n",
              "      <td>0.634378</td>\n",
              "      <td>-0.338268</td>\n",
              "      <td>-1.356133</td>\n",
              "      <td>-2.003275</td>\n",
              "      <td>-0.409399</td>\n",
              "      <td>-0.152071</td>\n",
              "      <td>...</td>\n",
              "      <td>0.344713</td>\n",
              "      <td>0.023132</td>\n",
              "      <td>-0.131187</td>\n",
              "      <td>-0.355775</td>\n",
              "      <td>-0.774958</td>\n",
              "      <td>-0.412367</td>\n",
              "      <td>0.352632</td>\n",
              "      <td>1.505979</td>\n",
              "      <td>0.454706</td>\n",
              "      <td>-1.731474</td>\n",
              "    </tr>\n",
              "    <tr>\n",
              "      <th>1</th>\n",
              "      <td>-0.102391</td>\n",
              "      <td>1.176405</td>\n",
              "      <td>-0.921224</td>\n",
              "      <td>0.185369</td>\n",
              "      <td>0.257497</td>\n",
              "      <td>-0.338268</td>\n",
              "      <td>0.816184</td>\n",
              "      <td>0.336139</td>\n",
              "      <td>-0.409399</td>\n",
              "      <td>-1.081737</td>\n",
              "      <td>...</td>\n",
              "      <td>-0.794835</td>\n",
              "      <td>0.583525</td>\n",
              "      <td>-0.131187</td>\n",
              "      <td>-0.355775</td>\n",
              "      <td>2.275487</td>\n",
              "      <td>-0.412367</td>\n",
              "      <td>-1.400823</td>\n",
              "      <td>-0.664020</td>\n",
              "      <td>0.454706</td>\n",
              "      <td>-1.730319</td>\n",
              "    </tr>\n",
              "    <tr>\n",
              "      <th>2</th>\n",
              "      <td>-0.875474</td>\n",
              "      <td>-0.998096</td>\n",
              "      <td>-0.958206</td>\n",
              "      <td>1.509437</td>\n",
              "      <td>-0.840071</td>\n",
              "      <td>1.325346</td>\n",
              "      <td>-1.776582</td>\n",
              "      <td>-0.833568</td>\n",
              "      <td>-0.409399</td>\n",
              "      <td>-1.166252</td>\n",
              "      <td>...</td>\n",
              "      <td>-0.794835</td>\n",
              "      <td>-0.712385</td>\n",
              "      <td>-0.131187</td>\n",
              "      <td>-0.355775</td>\n",
              "      <td>-0.339180</td>\n",
              "      <td>-0.412367</td>\n",
              "      <td>-0.426681</td>\n",
              "      <td>-0.664020</td>\n",
              "      <td>0.454706</td>\n",
              "      <td>-1.729164</td>\n",
              "    </tr>\n",
              "    <tr>\n",
              "      <th>3</th>\n",
              "      <td>-1.390862</td>\n",
              "      <td>1.176405</td>\n",
              "      <td>-0.829138</td>\n",
              "      <td>0.185369</td>\n",
              "      <td>-1.306603</td>\n",
              "      <td>-0.338268</td>\n",
              "      <td>0.816184</td>\n",
              "      <td>-0.443666</td>\n",
              "      <td>0.451588</td>\n",
              "      <td>2.045322</td>\n",
              "      <td>...</td>\n",
              "      <td>-0.225061</td>\n",
              "      <td>0.583525</td>\n",
              "      <td>-0.131187</td>\n",
              "      <td>2.642331</td>\n",
              "      <td>-0.339180</td>\n",
              "      <td>-0.412367</td>\n",
              "      <td>-1.108581</td>\n",
              "      <td>-0.664020</td>\n",
              "      <td>-2.199222</td>\n",
              "      <td>-1.728009</td>\n",
              "    </tr>\n",
              "    <tr>\n",
              "      <th>4</th>\n",
              "      <td>1.186081</td>\n",
              "      <td>1.176405</td>\n",
              "      <td>-0.571295</td>\n",
              "      <td>-1.138698</td>\n",
              "      <td>-0.268222</td>\n",
              "      <td>-0.338268</td>\n",
              "      <td>-0.281654</td>\n",
              "      <td>-0.703601</td>\n",
              "      <td>-0.839893</td>\n",
              "      <td>-0.405616</td>\n",
              "      <td>...</td>\n",
              "      <td>-0.794835</td>\n",
              "      <td>-0.070267</td>\n",
              "      <td>-0.131187</td>\n",
              "      <td>-0.355775</td>\n",
              "      <td>0.096597</td>\n",
              "      <td>-0.412367</td>\n",
              "      <td>-1.400823</td>\n",
              "      <td>-0.664020</td>\n",
              "      <td>-2.199222</td>\n",
              "      <td>-1.726855</td>\n",
              "    </tr>\n",
              "    <tr>\n",
              "      <th>...</th>\n",
              "      <td>...</td>\n",
              "      <td>...</td>\n",
              "      <td>...</td>\n",
              "      <td>...</td>\n",
              "      <td>...</td>\n",
              "      <td>...</td>\n",
              "      <td>...</td>\n",
              "      <td>...</td>\n",
              "      <td>...</td>\n",
              "      <td>...</td>\n",
              "      <td>...</td>\n",
              "      <td>...</td>\n",
              "      <td>...</td>\n",
              "      <td>...</td>\n",
              "      <td>...</td>\n",
              "      <td>...</td>\n",
              "      <td>...</td>\n",
              "      <td>...</td>\n",
              "      <td>...</td>\n",
              "      <td>...</td>\n",
              "      <td>...</td>\n",
              "    </tr>\n",
              "    <tr>\n",
              "      <th>2995</th>\n",
              "      <td>-0.360085</td>\n",
              "      <td>1.176405</td>\n",
              "      <td>-1.039095</td>\n",
              "      <td>0.185369</td>\n",
              "      <td>0.574321</td>\n",
              "      <td>-0.338268</td>\n",
              "      <td>0.816184</td>\n",
              "      <td>-0.443666</td>\n",
              "      <td>0.882081</td>\n",
              "      <td>0.862110</td>\n",
              "      <td>...</td>\n",
              "      <td>-0.794835</td>\n",
              "      <td>0.583525</td>\n",
              "      <td>-0.131187</td>\n",
              "      <td>2.642331</td>\n",
              "      <td>-0.339180</td>\n",
              "      <td>-0.412367</td>\n",
              "      <td>-0.621510</td>\n",
              "      <td>-0.664020</td>\n",
              "      <td>0.454706</td>\n",
              "      <td>1.726855</td>\n",
              "    </tr>\n",
              "    <tr>\n",
              "      <th>2996</th>\n",
              "      <td>-0.617779</td>\n",
              "      <td>-0.998096</td>\n",
              "      <td>-0.737051</td>\n",
              "      <td>-1.138698</td>\n",
              "      <td>-0.762606</td>\n",
              "      <td>-0.338268</td>\n",
              "      <td>0.816184</td>\n",
              "      <td>0.466107</td>\n",
              "      <td>0.882081</td>\n",
              "      <td>-0.912707</td>\n",
              "      <td>...</td>\n",
              "      <td>-0.225061</td>\n",
              "      <td>0.583525</td>\n",
              "      <td>-0.131187</td>\n",
              "      <td>2.642331</td>\n",
              "      <td>0.096597</td>\n",
              "      <td>-0.412367</td>\n",
              "      <td>-1.303409</td>\n",
              "      <td>-0.664020</td>\n",
              "      <td>0.454706</td>\n",
              "      <td>1.728009</td>\n",
              "    </tr>\n",
              "    <tr>\n",
              "      <th>2997</th>\n",
              "      <td>-1.133168</td>\n",
              "      <td>1.176405</td>\n",
              "      <td>-0.331869</td>\n",
              "      <td>-1.138698</td>\n",
              "      <td>-1.397995</td>\n",
              "      <td>-0.338268</td>\n",
              "      <td>0.816184</td>\n",
              "      <td>0.856009</td>\n",
              "      <td>-0.839893</td>\n",
              "      <td>-1.588828</td>\n",
              "      <td>...</td>\n",
              "      <td>-0.794835</td>\n",
              "      <td>0.583525</td>\n",
              "      <td>-0.131187</td>\n",
              "      <td>-0.355775</td>\n",
              "      <td>0.968153</td>\n",
              "      <td>-0.412367</td>\n",
              "      <td>-1.011167</td>\n",
              "      <td>-0.664020</td>\n",
              "      <td>-2.199222</td>\n",
              "      <td>1.729164</td>\n",
              "    </tr>\n",
              "    <tr>\n",
              "      <th>2998</th>\n",
              "      <td>1.186081</td>\n",
              "      <td>1.176405</td>\n",
              "      <td>-0.355186</td>\n",
              "      <td>1.509437</td>\n",
              "      <td>0.381963</td>\n",
              "      <td>-0.338268</td>\n",
              "      <td>0.816184</td>\n",
              "      <td>0.466107</td>\n",
              "      <td>-0.409399</td>\n",
              "      <td>-0.405616</td>\n",
              "      <td>...</td>\n",
              "      <td>-0.794835</td>\n",
              "      <td>0.583525</td>\n",
              "      <td>-0.131187</td>\n",
              "      <td>2.642331</td>\n",
              "      <td>-0.774958</td>\n",
              "      <td>-0.412367</td>\n",
              "      <td>-0.329267</td>\n",
              "      <td>-0.664020</td>\n",
              "      <td>-2.199222</td>\n",
              "      <td>1.730319</td>\n",
              "    </tr>\n",
              "    <tr>\n",
              "      <th>2999</th>\n",
              "      <td>0.155304</td>\n",
              "      <td>1.176405</td>\n",
              "      <td>0.220651</td>\n",
              "      <td>0.185369</td>\n",
              "      <td>0.368037</td>\n",
              "      <td>-0.338268</td>\n",
              "      <td>0.816184</td>\n",
              "      <td>0.076204</td>\n",
              "      <td>0.451588</td>\n",
              "      <td>0.270505</td>\n",
              "      <td>...</td>\n",
              "      <td>-0.794835</td>\n",
              "      <td>0.583525</td>\n",
              "      <td>-0.131187</td>\n",
              "      <td>-0.355775</td>\n",
              "      <td>-1.210736</td>\n",
              "      <td>-0.412367</td>\n",
              "      <td>-0.621510</td>\n",
              "      <td>1.505979</td>\n",
              "      <td>0.454706</td>\n",
              "      <td>1.731474</td>\n",
              "    </tr>\n",
              "  </tbody>\n",
              "</table>\n",
              "<p>3000 rows × 37 columns</p>\n",
              "</div>\n",
              "      <button class=\"colab-df-convert\" onclick=\"convertToInteractive('df-1a943e16-37a8-48d3-98fe-b8f0984cfe4f')\"\n",
              "              title=\"Convert this dataframe to an interactive table.\"\n",
              "              style=\"display:none;\">\n",
              "        \n",
              "  <svg xmlns=\"http://www.w3.org/2000/svg\" height=\"24px\"viewBox=\"0 0 24 24\"\n",
              "       width=\"24px\">\n",
              "    <path d=\"M0 0h24v24H0V0z\" fill=\"none\"/>\n",
              "    <path d=\"M18.56 5.44l.94 2.06.94-2.06 2.06-.94-2.06-.94-.94-2.06-.94 2.06-2.06.94zm-11 1L8.5 8.5l.94-2.06 2.06-.94-2.06-.94L8.5 2.5l-.94 2.06-2.06.94zm10 10l.94 2.06.94-2.06 2.06-.94-2.06-.94-.94-2.06-.94 2.06-2.06.94z\"/><path d=\"M17.41 7.96l-1.37-1.37c-.4-.4-.92-.59-1.43-.59-.52 0-1.04.2-1.43.59L10.3 9.45l-7.72 7.72c-.78.78-.78 2.05 0 2.83L4 21.41c.39.39.9.59 1.41.59.51 0 1.02-.2 1.41-.59l7.78-7.78 2.81-2.81c.8-.78.8-2.07 0-2.86zM5.41 20L4 18.59l7.72-7.72 1.47 1.35L5.41 20z\"/>\n",
              "  </svg>\n",
              "      </button>\n",
              "      \n",
              "  <style>\n",
              "    .colab-df-container {\n",
              "      display:flex;\n",
              "      flex-wrap:wrap;\n",
              "      gap: 12px;\n",
              "    }\n",
              "\n",
              "    .colab-df-convert {\n",
              "      background-color: #E8F0FE;\n",
              "      border: none;\n",
              "      border-radius: 50%;\n",
              "      cursor: pointer;\n",
              "      display: none;\n",
              "      fill: #1967D2;\n",
              "      height: 32px;\n",
              "      padding: 0 0 0 0;\n",
              "      width: 32px;\n",
              "    }\n",
              "\n",
              "    .colab-df-convert:hover {\n",
              "      background-color: #E2EBFA;\n",
              "      box-shadow: 0px 1px 2px rgba(60, 64, 67, 0.3), 0px 1px 3px 1px rgba(60, 64, 67, 0.15);\n",
              "      fill: #174EA6;\n",
              "    }\n",
              "\n",
              "    [theme=dark] .colab-df-convert {\n",
              "      background-color: #3B4455;\n",
              "      fill: #D2E3FC;\n",
              "    }\n",
              "\n",
              "    [theme=dark] .colab-df-convert:hover {\n",
              "      background-color: #434B5C;\n",
              "      box-shadow: 0px 1px 3px 1px rgba(0, 0, 0, 0.15);\n",
              "      filter: drop-shadow(0px 1px 2px rgba(0, 0, 0, 0.3));\n",
              "      fill: #FFFFFF;\n",
              "    }\n",
              "  </style>\n",
              "\n",
              "      <script>\n",
              "        const buttonEl =\n",
              "          document.querySelector('#df-1a943e16-37a8-48d3-98fe-b8f0984cfe4f button.colab-df-convert');\n",
              "        buttonEl.style.display =\n",
              "          google.colab.kernel.accessAllowed ? 'block' : 'none';\n",
              "\n",
              "        async function convertToInteractive(key) {\n",
              "          const element = document.querySelector('#df-1a943e16-37a8-48d3-98fe-b8f0984cfe4f');\n",
              "          const dataTable =\n",
              "            await google.colab.kernel.invokeFunction('convertToInteractive',\n",
              "                                                     [key], {});\n",
              "          if (!dataTable) return;\n",
              "\n",
              "          const docLinkHtml = 'Like what you see? Visit the ' +\n",
              "            '<a target=\"_blank\" href=https://colab.research.google.com/notebooks/data_table.ipynb>data table notebook</a>'\n",
              "            + ' to learn more about interactive tables.';\n",
              "          element.innerHTML = '';\n",
              "          dataTable['output_type'] = 'display_data';\n",
              "          await google.colab.output.renderOutput(dataTable, element);\n",
              "          const docLink = document.createElement('div');\n",
              "          docLink.innerHTML = docLinkHtml;\n",
              "          element.appendChild(docLink);\n",
              "        }\n",
              "      </script>\n",
              "    </div>\n",
              "  </div>\n",
              "  "
            ]
          },
          "metadata": {},
          "execution_count": 511
        }
      ]
    },
    {
      "cell_type": "markdown",
      "source": [
        "## Prediction"
      ],
      "metadata": {
        "id": "IR5p4DcfiBDy"
      }
    },
    {
      "cell_type": "code",
      "source": [
        "yhat1 = regressor.predict(df_scaled1)"
      ],
      "metadata": {
        "id": "c8MoRZ5l5BW7"
      },
      "execution_count": 553,
      "outputs": []
    },
    {
      "cell_type": "code",
      "source": [
        "len(yhat1)"
      ],
      "metadata": {
        "colab": {
          "base_uri": "https://localhost:8080/"
        },
        "id": "92m6Lq5f5NdK",
        "outputId": "23472369-cccc-4470-8a96-d8d97982fbcb"
      },
      "execution_count": 554,
      "outputs": [
        {
          "output_type": "execute_result",
          "data": {
            "text/plain": [
              "3000"
            ]
          },
          "metadata": {},
          "execution_count": 554
        }
      ]
    },
    {
      "cell_type": "code",
      "source": [
        "index = [i for i in range(7001, 10001)]"
      ],
      "metadata": {
        "id": "K6mXN7Zc5vEA"
      },
      "execution_count": 555,
      "outputs": []
    },
    {
      "cell_type": "code",
      "source": [
        "submission = pd.DataFrame({'id':index,'interest_rate':yhat1})"
      ],
      "metadata": {
        "id": "-GkRXHER6btb"
      },
      "execution_count": 556,
      "outputs": []
    },
    {
      "cell_type": "code",
      "source": [
        "submission.to_csv('submission.csv',index=False)"
      ],
      "metadata": {
        "id": "E8_3apl-6nSk"
      },
      "execution_count": 557,
      "outputs": []
    }
  ]
}